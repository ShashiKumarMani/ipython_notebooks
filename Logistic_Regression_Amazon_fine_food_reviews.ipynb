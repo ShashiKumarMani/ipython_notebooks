{
  "nbformat": 4,
  "nbformat_minor": 0,
  "metadata": {
    "colab": {
      "name": "5_Logistic_Regression_Amazon_fine_food_reviews.ipynb",
      "version": "0.3.2",
      "provenance": [],
      "collapsed_sections": []
    },
    "kernelspec": {
      "name": "python3",
      "display_name": "Python 3"
    },
    "accelerator": "GPU"
  },
  "cells": [
    {
      "metadata": {
        "id": "Elko8au67ErZ",
        "colab_type": "text"
      },
      "cell_type": "markdown",
      "source": [
        "# Excercise_5 : Logistic_Regression on Amazon Fine Food Reviews Dataset\n",
        "**Objective:**\n",
        "1. To apply logistic_regression on amazon_fine_food_review_dataset using the text-feature_extraction techniques-BOW,Tf-IDF,Word2Vec,Tf-idf weighed Word2Vec.\n",
        "\n",
        "**Steps:**\n",
        "1. Perform DataCleaning(Deduplication), Remove wrong entries..\n",
        "2. Sort the dataset according to the timestamp and take the top 100000 samples.\n",
        "3. Perfrom text-preprocessing(remove html tags,remove punctutation,convert to lower-case,remove stop-words,stemming(snowball)).\n",
        "4. Convert text to vectors using BOW, TFIDF, averageW2V, Tf-idf weighed W2V.\n",
        "5.  Apply Logistic Regresion on the vectors.\n",
        "6. Perform Hyperparameter search using RandomizedsearchCV and GridsearchCV and obtain the best parameters.\n",
        "7. Obtain the performance measures of the models on train and test data.\n",
        "8. Plot confusion matrix and cv scores on test data.\n",
        "9. Perfrom sparsity check by training the model with increasing lambda and checking non_zero values.\n",
        "10. Perform multicolinearity check using pertubation test.\n",
        "11. Print a prettytable of various parameters of the models.\n"
      ]
    },
    {
      "metadata": {
        "id": "Dz1blkAhFaPz",
        "colab_type": "code",
        "outputId": "736a04d6-6839-4b62-baaf-6ccf4c854e51",
        "colab": {
          "base_uri": "https://localhost:8080/",
          "height": 367
        }
      },
      "cell_type": "code",
      "source": [
        "!pip install gensim\n",
        "!pip install prettytable"
      ],
      "execution_count": 0,
      "outputs": [
        {
          "output_type": "stream",
          "text": [
            "Requirement already satisfied: gensim in /usr/local/lib/python3.6/dist-packages (3.6.0)\n",
            "Requirement already satisfied: scipy>=0.18.1 in /usr/local/lib/python3.6/dist-packages (from gensim) (1.1.0)\n",
            "Requirement already satisfied: smart-open>=1.2.1 in /usr/local/lib/python3.6/dist-packages (from gensim) (1.7.1)\n",
            "Requirement already satisfied: numpy>=1.11.3 in /usr/local/lib/python3.6/dist-packages (from gensim) (1.14.6)\n",
            "Requirement already satisfied: six>=1.5.0 in /usr/local/lib/python3.6/dist-packages (from gensim) (1.11.0)\n",
            "Requirement already satisfied: bz2file in /usr/local/lib/python3.6/dist-packages (from smart-open>=1.2.1->gensim) (0.98)\n",
            "Requirement already satisfied: requests in /usr/local/lib/python3.6/dist-packages (from smart-open>=1.2.1->gensim) (2.18.4)\n",
            "Requirement already satisfied: boto3 in /usr/local/lib/python3.6/dist-packages (from smart-open>=1.2.1->gensim) (1.9.62)\n",
            "Requirement already satisfied: boto>=2.32 in /usr/local/lib/python3.6/dist-packages (from smart-open>=1.2.1->gensim) (2.49.0)\n",
            "Requirement already satisfied: chardet<3.1.0,>=3.0.2 in /usr/local/lib/python3.6/dist-packages (from requests->smart-open>=1.2.1->gensim) (3.0.4)\n",
            "Requirement already satisfied: urllib3<1.23,>=1.21.1 in /usr/local/lib/python3.6/dist-packages (from requests->smart-open>=1.2.1->gensim) (1.22)\n",
            "Requirement already satisfied: idna<2.7,>=2.5 in /usr/local/lib/python3.6/dist-packages (from requests->smart-open>=1.2.1->gensim) (2.6)\n",
            "Requirement already satisfied: certifi>=2017.4.17 in /usr/local/lib/python3.6/dist-packages (from requests->smart-open>=1.2.1->gensim) (2018.11.29)\n",
            "Requirement already satisfied: botocore<1.13.0,>=1.12.62 in /usr/local/lib/python3.6/dist-packages (from boto3->smart-open>=1.2.1->gensim) (1.12.62)\n",
            "Requirement already satisfied: s3transfer<0.2.0,>=0.1.10 in /usr/local/lib/python3.6/dist-packages (from boto3->smart-open>=1.2.1->gensim) (0.1.13)\n",
            "Requirement already satisfied: jmespath<1.0.0,>=0.7.1 in /usr/local/lib/python3.6/dist-packages (from boto3->smart-open>=1.2.1->gensim) (0.9.3)\n",
            "Requirement already satisfied: docutils>=0.10 in /usr/local/lib/python3.6/dist-packages (from botocore<1.13.0,>=1.12.62->boto3->smart-open>=1.2.1->gensim) (0.14)\n",
            "Requirement already satisfied: python-dateutil<3.0.0,>=2.1; python_version >= \"2.7\" in /usr/local/lib/python3.6/dist-packages (from botocore<1.13.0,>=1.12.62->boto3->smart-open>=1.2.1->gensim) (2.5.3)\n",
            "Requirement already satisfied: prettytable in /usr/local/lib/python3.6/dist-packages (0.7.2)\n"
          ],
          "name": "stdout"
        }
      ]
    },
    {
      "metadata": {
        "id": "1x0LkkXuwZvu",
        "colab_type": "code",
        "outputId": "508f9aeb-8f1e-48eb-fcdf-600febc33a38",
        "colab": {
          "base_uri": "https://localhost:8080/",
          "height": 34
        }
      },
      "cell_type": "code",
      "source": [
        "#import required libraries\n",
        "import warnings\n",
        "warnings.filterwarnings('ignore')\n",
        "\n",
        "from sklearn.linear_model import LogisticRegression\n",
        "from google.colab import drive\n",
        "import numpy as np\n",
        "import pickle\n",
        "from sklearn.metrics import f1_score\n",
        "from sklearn.feature_extraction.text import CountVectorizer\n",
        "from sklearn.feature_extraction.text import TfidfVectorizer\n",
        "from gensim.models import Word2Vec\n",
        "from tqdm import tqdm\n",
        "from sklearn.model_selection import GridSearchCV\n",
        "from scipy.stats import uniform\n",
        "from sklearn.model_selection import RandomizedSearchCV\n",
        "from scipy.stats import uniform\n",
        "from sklearn.preprocessing import StandardScaler\n",
        "from sklearn.metrics import confusion_matrix,precision_score,recall_score,roc_auc_score\n",
        "import seaborn as sn\n",
        "import matplotlib.pyplot as plt\n",
        "import pickle\n",
        "from prettytable import PrettyTable\n",
        "drive.mount('/content/drive')"
      ],
      "execution_count": 0,
      "outputs": [
        {
          "output_type": "stream",
          "text": [
            "Drive already mounted at /content/drive; to attempt to forcibly remount, call drive.mount(\"/content/drive\", force_remount=True).\n"
          ],
          "name": "stdout"
        }
      ]
    },
    {
      "metadata": {
        "id": "-s1IAsF4r6di",
        "colab_type": "text"
      },
      "cell_type": "markdown",
      "source": [
        "**Import the preprocessed dataset**"
      ]
    },
    {
      "metadata": {
        "id": "vx7WFQsqx3Xp",
        "colab_type": "code",
        "colab": {}
      },
      "cell_type": "code",
      "source": [
        "with open('/content/drive/My Drive/Colab Notebooks/x_train3.pkl','rb') as f:\n",
        "  x_train = pickle.load(f)\n",
        "with open('/content/drive/My Drive/Colab Notebooks/x_test3.pkl','rb') as f:\n",
        "  x_test = pickle.load(f)\n",
        "with open('/content/drive/My Drive/Colab Notebooks/y_train3.pkl','rb') as f:\n",
        "  y_train = pickle.load(f)\n",
        "with open('/content/drive/My Drive/Colab Notebooks/y_test3.pkl','rb') as f:\n",
        "  y_test = pickle.load(f)"
      ],
      "execution_count": 0,
      "outputs": []
    },
    {
      "metadata": {
        "id": "DnnG4Sm3mS13",
        "colab_type": "code",
        "outputId": "3cce8a1c-0a45-44a1-f693-3b2b61af3bff",
        "colab": {
          "base_uri": "https://localhost:8080/",
          "height": 121
        }
      },
      "cell_type": "code",
      "source": [
        "print(y_train.value_counts())\n",
        "print(y_test.value_counts())"
      ],
      "execution_count": 0,
      "outputs": [
        {
          "output_type": "stream",
          "text": [
            "1    61362\n",
            "0     8638\n",
            "Name: Score, dtype: int64\n",
            "1    26367\n",
            "0     3633\n",
            "Name: Score, dtype: int64\n"
          ],
          "name": "stdout"
        }
      ]
    },
    {
      "metadata": {
        "id": "Fn9K9hibsDSq",
        "colab_type": "text"
      },
      "cell_type": "markdown",
      "source": [
        "**Observations:**\n",
        "1. The dataset is  imbalanced   with majority positive class."
      ]
    },
    {
      "metadata": {
        "id": "-KrVh0U55q6S",
        "colab_type": "text"
      },
      "cell_type": "markdown",
      "source": [
        "# Logistic Regression - Bag Of Words "
      ]
    },
    {
      "metadata": {
        "id": "sncpmLy95Yat",
        "colab_type": "code",
        "colab": {}
      },
      "cell_type": "code",
      "source": [
        "#bow feature_extraction\n",
        "\n",
        "bow_model = CountVectorizer(dtype='float')\n",
        "bow_train = bow_model.fit_transform(x_train)\n",
        "bow_test = bow_model.transform(x_test)\n",
        "\n",
        "#Standardising the data\n",
        "scaler = StandardScaler(with_mean=False)\n",
        "bow_x_train = scaler.fit_transform(bow_train)\n",
        "bow_x_test = scaler.transform(bow_test)"
      ],
      "execution_count": 0,
      "outputs": []
    },
    {
      "metadata": {
        "id": "H2_Im8tM7X5c",
        "colab_type": "text"
      },
      "cell_type": "markdown",
      "source": [
        "**Logistic regression -  Randomized-hyperparameter search - using L2 regularisation**"
      ]
    },
    {
      "metadata": {
        "id": "f9-z2q78H82S",
        "colab_type": "code",
        "colab": {}
      },
      "cell_type": "code",
      "source": [
        "with open('/content/drive/My Drive/log_models/bow_r_model.pkl','rb') as f:\n",
        "  r_model1 = pickle.load(f)"
      ],
      "execution_count": 0,
      "outputs": []
    },
    {
      "metadata": {
        "id": "zgqDpFURRpDy",
        "colab_type": "code",
        "outputId": "92f32808-bce2-457b-f827-4d1e95dd593a",
        "colab": {
          "base_uri": "https://localhost:8080/",
          "height": 422
        }
      },
      "cell_type": "code",
      "source": [
        "# find the optimal hyperparameter \n",
        "\n",
        "params = {'C' : [1000,100,50,10,5,1,0.1,0.5,0.01,0.02,0.005,0.001,0.0001]}\n",
        "\n",
        "\"\"\"r_model1 = RandomizedSearchCV(LogisticRegression(),params,scoring='f1_weighted',cv=5,n_jobs=-1)\n",
        "r_model1.fit(bow_x_train,y_train)\"\"\"\n",
        "\n",
        "train_pred = r_model1.predict(bow_x_train)\n",
        "test_pred = r_model1.predict(bow_x_test)\n",
        "\n",
        "conf1 = confusion_matrix(y_train,train_pred)\n",
        "conf2 = confusion_matrix(y_test,test_pred)\n",
        "\n",
        "\n",
        "plt.figure(1,figsize=(15,5))\n",
        "plt.subplot(1,2,1)\n",
        "plt.title('Random_search : train')\n",
        "sn.heatmap(conf1,annot=conf1,cbar=True,cmap='Blues')\n",
        "plt.subplot(1,2,2)\n",
        "plt.title('Test')\n",
        "sn.heatmap(conf2,annot=conf2,cbar=True,cmap='Blues')\n",
        "plt.show()\n",
        "\n",
        "print('Randomized search : Best_parameters : %s ,train_scores : %f, test_score : %f' % (r_model1.best_params_,r_model1.score(bow_x_train,y_train),r_model1.score(bow_x_test,y_test)))\n",
        "\n",
        "print('True negative rate',conf2[0][0] / (conf2[0][0] + conf2[1][0]))\n",
        "\n",
        "print('Roc-auc score on test-data',roc_auc_score(y_test,test_pred))\n",
        "print('Recall score on test-data ',recall_score(y_test,test_pred))\n",
        "print('Precision score on test-data',precision_score(y_test,test_pred))\n",
        "\n"
      ],
      "execution_count": 0,
      "outputs": [
        {
          "output_type": "display_data",
          "data": {
            "image/png": "[encoded data removed]",
            "text/plain": [
              "<matplotlib.figure.Figure at 0x7f68ee637cf8>"
            ]
          },
          "metadata": {
            "tags": []
          }
        },
        {
          "output_type": "stream",
          "text": [
            "Randomized search : Best_parameters : {'C': 0.001} ,train_scores : 0.971554, test_score : 0.916147\n",
            "True negative rate 0.7506785575804575\n",
            "Roc-auc score on test-data 0.7542531910853585\n",
            "Recall score on test-data  0.9756134562142071\n",
            "Precision score on test-data 0.9381131249772072\n"
          ],
          "name": "stdout"
        }
      ]
    },
    {
      "metadata": {
        "id": "1UNtK4SylvLs",
        "colab_type": "code",
        "colab": {}
      },
      "cell_type": "code",
      "source": [
        "cv_score = r_model1.cv_results_['mean_test_score']\n",
        "train_score = r_model1.cv_results_['mean_train_score']\n",
        "c_values = r_model1.cv_results_['params']\n"
      ],
      "execution_count": 0,
      "outputs": []
    },
    {
      "metadata": {
        "id": "fPtduGPyqDS0",
        "colab_type": "code",
        "outputId": "bdd79676-b9f5-4e96-8ac7-2fa8a6f650bf",
        "colab": {
          "base_uri": "https://localhost:8080/",
          "height": 347
        }
      },
      "cell_type": "code",
      "source": [
        "import matplotlib.pyplot as plt\n",
        "plt.plot(cv_score,c_values)\n",
        "plt.show()"
      ],
      "execution_count": 0,
      "outputs": [
        {
          "output_type": "display_data",
          "data": {
            "image/png": "[encoded data removed]",
            "text/plain": [
              "<matplotlib.figure.Figure at 0x7fa794b054e0>"
            ]
          },
          "metadata": {
            "tags": []
          }
        }
      ]
    },
    {
      "metadata": {
        "id": "5v324s1tlFQa",
        "colab_type": "text"
      },
      "cell_type": "markdown",
      "source": [
        "**Logistic Regression using grid prarameter seach and L2 regularisation**"
      ]
    },
    {
      "metadata": {
        "id": "tSA32DOWe-kd",
        "colab_type": "code",
        "outputId": "8adf8924-3101-44fe-9b70-f6388b7abed9",
        "colab": {
          "base_uri": "https://localhost:8080/",
          "height": 422
        }
      },
      "cell_type": "code",
      "source": [
        "#Gridsearch on same hyperparameter values\n",
        "\n",
        "params2 = { 'C' : [1000,100,50,10,5,1,0.1,0.5,0.01,0.02,0.005,0.001,0.0001]} #search 10 values around the c found from random search \n",
        "g_model1 = GridSearchCV(LogisticRegression(),params2,scoring='f1_weighted',cv=5,n_jobs=-1)  \n",
        "g_model1.fit(bow_x_train,y_train)\n",
        "\n",
        "train_pred = g_model1.predict(bow_x_train)\n",
        "test_pred = g_model1.predict(bow_x_test)\n",
        "\n",
        "conf3 = confusion_matrix(y_train,train_pred)\n",
        "conf4 = confusion_matrix(y_test,test_pred)\n",
        "\n",
        "plt.figure(1,figsize=(15,5))\n",
        "plt.subplot(1,2,1)\n",
        "plt.title('Gridsearch : train')\n",
        "sn.heatmap(conf3,annot=conf3,cbar=True,cmap='Blues')\n",
        "plt.subplot(1,2,2)\n",
        "plt.title('Test')\n",
        "sn.heatmap(conf4,annot=conf4,cbar=True,cmap='Blues')\n",
        "plt.show()\n",
        "\n",
        "print('Gridsearch : Best_parameters : %s ,train_score :%f ,test_score : %f ' %(g_model1.best_params_,g_model1.score(bow_x_train,y_train),g_model1.score(bow_x_test,y_test)))\n",
        "\n",
        "print('True negative rate',conf4[0][0] / (conf4[0][0] + conf4[1][0]))\n",
        "print('Roc-auc score    ',roc_auc_score(y_test,test_pred))\n",
        "print('Precision score on test data :',precision_score(y_test,test_pred))\n",
        "print('Recall score test-data : ',recall_score(y_test,test_pred))\n"
      ],
      "execution_count": 0,
      "outputs": [
        {
          "output_type": "display_data",
          "data": {
            "image/png": "[encoded data removed]",
            "text/plain": [
              "<matplotlib.figure.Figure at 0x7f68ee693898>"
            ]
          },
          "metadata": {
            "tags": []
          }
        },
        {
          "output_type": "stream",
          "text": [
            "Gridsearch : Best_parameters : {'C': 0.001} ,train_score :0.971554 ,test_score : 0.916147 \n",
            "True negative rate 0.7506785575804575\n",
            "Roc-auc score     0.7542531910853585\n",
            "Precision score on test data : 0.9381131249772072\n",
            "Recall score test-data :  0.9756134562142071\n"
          ],
          "name": "stdout"
        }
      ]
    },
    {
      "metadata": {
        "id": "M607yZdsMTw6",
        "colab_type": "code",
        "colab": {}
      },
      "cell_type": "code",
      "source": [
        "with open('/content/drive/My Drive/log_models/bow_g_model.pkl','wb') as f:\n",
        "  pickle.dump(g_model1,f)"
      ],
      "execution_count": 0,
      "outputs": []
    },
    {
      "metadata": {
        "id": "bXJlttc3OGTV",
        "colab_type": "text"
      },
      "cell_type": "markdown",
      "source": [
        "**Observations:**\n",
        "\n",
        "1. C hyperparameter are same for random and grid search.\n",
        "2. Best Performance obtained when f1 weighted is used using both grid and random search.\n",
        "3. False positive rate is high due to data imbalance."
      ]
    },
    {
      "metadata": {
        "id": "y1bPBZJU85dN",
        "colab_type": "text"
      },
      "cell_type": "markdown",
      "source": [
        "**Logistic regression using L1 regularisation**"
      ]
    },
    {
      "metadata": {
        "id": "_IVNzdnDD80s",
        "colab_type": "code",
        "outputId": "2a5445d5-b5b7-4340-8c20-9a70c6ef3d2a",
        "colab": {
          "base_uri": "https://localhost:8080/",
          "height": 422
        }
      },
      "cell_type": "code",
      "source": [
        "#apply logistic regression using l1 regularisation\n",
        "\n",
        "params = {'C' : [100,50,10,5,1,0.1,0.5,0.01,0.02,0.005,0.001,0.0001]}\n",
        "\n",
        "model2 = RandomizedSearchCV(LogisticRegression(penalty='l1'),params,scoring='f1',cv=5)\n",
        "model2.fit(bow_x_train,y_train)\n",
        "\n",
        "train_pred = model2.predict(bow_x_train)\n",
        "test_pred = model2.predict(bow_x_test)\n",
        "\n",
        "conf3 = confusion_matrix(y_train,train_pred)\n",
        "conf4 = confusion_matrix(y_test,test_pred)\n",
        "\n",
        "plt.figure(1,figsize=(15,5))\n",
        "plt.subplot(1,2,1)\n",
        "plt.title(' RandomizedSearch : Train ')\n",
        "sn.heatmap(conf3,annot=conf3,cbar=True,cmap='Blues')\n",
        "plt.subplot(1,2,2)\n",
        "plt.title(' Test ')\n",
        "sn.heatmap(conf4,annot=conf4,cbar=True,cmap='Blues')\n",
        "plt.show()\n",
        "\n",
        "print('Gridsearch : Best_parameters : %s ,train_score :%f ,test_score : %f ' %(model2.best_params_,model2.score(bow_x_train,y_train),model2.score(bow_x_test,y_test)))\n",
        "\n",
        "print('True negative rate',conf4[0][0] / (conf4[0][0] + conf4[1][0]))\n",
        "print('Roc-auc score   : ',roc_auc_score(y_test,test_pred))\n",
        "print('Precision score on test data :',precision_score(y_test,test_pred))\n",
        "print('Recall score test-data : ',recall_score(y_test,test_pred))"
      ],
      "execution_count": 0,
      "outputs": [
        {
          "output_type": "display_data",
          "data": {
            "image/png": "[encoded data removed]",
            "text/plain": [
              "<matplotlib.figure.Figure at 0x7f0f6ec6d5f8>"
            ]
          },
          "metadata": {
            "tags": []
          }
        },
        {
          "output_type": "stream",
          "text": [
            "Gridsearch : Best_parameters : {'C': 0.02} ,train_score :0.977547 ,test_score : 0.958406 \n",
            "True negative rate 0.7771587743732591\n",
            "Roc-auc score   :  0.7581667923931013\n",
            "Precision score on test data : 0.93888019791174\n",
            "Recall score test-data :  0.9787613304509425\n"
          ],
          "name": "stdout"
        }
      ]
    },
    {
      "metadata": {
        "id": "Js_EbJFBLF1R",
        "colab_type": "code",
        "colab": {}
      },
      "cell_type": "code",
      "source": [
        "with open('/content/drive/My Drive/log_models/bow_l1.pkl','wb') as f:\n",
        "  pickle.dump(model2,f)"
      ],
      "execution_count": 0,
      "outputs": []
    },
    {
      "metadata": {
        "id": "mK2BdYZcyF7i",
        "colab_type": "text"
      },
      "cell_type": "markdown",
      "source": [
        "**Sparsity**"
      ]
    },
    {
      "metadata": {
        "id": "cGem8fmUyFjV",
        "colab_type": "code",
        "outputId": "b4d10932-3ae0-4c36-b4ca-9eade34e546e",
        "colab": {
          "base_uri": "https://localhost:8080/",
          "height": 34
        }
      },
      "cell_type": "code",
      "source": [
        "#obtain weights from the model\n",
        "w = model2.best_estimator_.coef_\n",
        "print('The number of non zero weights ',np.count_nonzero(w[0]))"
      ],
      "execution_count": 0,
      "outputs": [
        {
          "output_type": "stream",
          "text": [
            "The number of non zero weights  5508\n"
          ],
          "name": "stdout"
        }
      ]
    },
    {
      "metadata": {
        "id": "MCuZHPIGLo8d",
        "colab_type": "text"
      },
      "cell_type": "markdown",
      "source": [
        "**Observations:**\n",
        "1. Perform random hyperparameter search, by applying 'L1' Regularisation.\n",
        "2. Best performance with f1  metric.\n",
        "3. Weight sparsity due to l1 regularisation."
      ]
    },
    {
      "metadata": {
        "id": "QArEyLf-6EH8",
        "colab_type": "text"
      },
      "cell_type": "markdown",
      "source": [
        "**Sparsity and L1 Regularisation:**"
      ]
    },
    {
      "metadata": {
        "id": "0PMrUXwkHxUD",
        "colab_type": "code",
        "outputId": "1b1657a0-91d8-4b6d-963a-851625d84098",
        "colab": {
          "base_uri": "https://localhost:8080/",
          "height": 243
        }
      },
      "cell_type": "code",
      "source": [
        "#find relationship bw l1 and sparsity\n",
        "c_range = [1000,100,50,10,5,1,0.1,0.5,0.01,0.02,0.005,0.001,0.0001]\n",
        "for i in c_range :\n",
        "  \n",
        "  clf = LogisticRegression(C = i,penalty='l1')\n",
        "  clf.fit(bow_x_train,y_train)\n",
        "  \n",
        "  w = clf.coef_\n",
        "  print('C : %f ; non_zeros : %d ' %(i,np.count_nonzero(w[0])))"
      ],
      "execution_count": 0,
      "outputs": [
        {
          "output_type": "stream",
          "text": [
            "C : 1000.000000 ; non_zeros : 18441 \n",
            "C : 100.000000 ; non_zeros : 17181 \n",
            "C : 50.000000 ; non_zeros : 15663 \n",
            "C : 10.000000 ; non_zeros : 13783 \n",
            "C : 5.000000 ; non_zeros : 13421 \n",
            "C : 1.000000 ; non_zeros : 12637 \n",
            "C : 0.100000 ; non_zeros : 9898 \n",
            "C : 0.500000 ; non_zeros : 12158 \n",
            "C : 0.010000 ; non_zeros : 3321 \n",
            "C : 0.020000 ; non_zeros : 5517 \n",
            "C : 0.005000 ; non_zeros : 1364 \n",
            "C : 0.001000 ; non_zeros : 59 \n",
            "C : 0.000100 ; non_zeros : 0 \n"
          ],
          "name": "stdout"
        }
      ]
    },
    {
      "metadata": {
        "id": "m3QBYu4249pN",
        "colab_type": "text"
      },
      "cell_type": "markdown",
      "source": [
        "**Observations:**\n",
        "1.  Using the  L1 regularisation, non_zeros weights decreases as lambda increases."
      ]
    },
    {
      "metadata": {
        "id": "74pG-6xMXe6-",
        "colab_type": "text"
      },
      "cell_type": "markdown",
      "source": [
        "**Multicollinearity - Pertubation test:**"
      ]
    },
    {
      "metadata": {
        "id": "LOLTjBzlWbtc",
        "colab_type": "code",
        "colab": {}
      },
      "cell_type": "code",
      "source": [
        "#train a model using best parameters obtained\n",
        "clf = LogisticRegression(C=0.001,penalty='l2')\n",
        "clf.fit(bow_x_train,y_train)\n",
        "w = clf.coef_\n",
        "# add noise to bow_data.\n",
        "bow_x_train.data+=np.random.normal(loc=0.0,scale=0.001) #add a random value to the data\n",
        "clf.fit(bow_x_train,y_train)\n",
        "w_m = clf.coef_\n",
        "\n",
        "\n",
        "coll = ((abs(w - w_m) ) / (w)) * 100\n",
        "print('Percent of features that change more than 200%',len(coll[coll > 200]) / bow_x_train.shape[1])\n",
        "print('Percent of features that change more than 100%',len(coll[coll > 100]) / bow_x_train.shape[1])\n",
        "print('Percent of features that change more than 50%',len(coll[coll > 50]) / bow_x_train.shape[1])\n",
        "print('Percent of features that change more than 25%',len(coll[coll > 25]) / bow_x_train.shape[1])\n",
        "print('Percent of features that change more than 10%',len(coll[coll > 10]) / bow_x_train.shape[1])\n",
        "print('Percent of features that change more than 5%',len(coll[coll > 5]) / bow_x_train.shape[1])\n",
        "print('Percent of features that change more than 3%',len(coll[coll > 3]) / bow_x_train.shape[1])\n",
        "print('Percent of features that change more than 1%',len(coll[coll > 1]) / bow_x_train.shape[1])\n",
        "\n",
        "\n",
        "model.best_estimator_.coef_[coll>5] = 0\n",
        "\n",
        "print('Score of the model',model.score(bow_x_test,y_test))\n"
      ],
      "execution_count": 0,
      "outputs": []
    },
    {
      "metadata": {
        "id": "OR3NMb1fIddL",
        "colab_type": "code",
        "outputId": "720d0c49-4a20-4d18-fa3b-b5a079d131ee",
        "colab": {
          "base_uri": "https://localhost:8080/",
          "height": 86
        }
      },
      "cell_type": "code",
      "source": [
        "clf = LogisticRegression(C=0.001,penalty='l2')\n",
        "clf.fit(bow_x_train,y_train)"
      ],
      "execution_count": 0,
      "outputs": [
        {
          "output_type": "execute_result",
          "data": {
            "text/plain": [
              "LogisticRegression(C=0.001, class_weight=None, dual=False, fit_intercept=True,\n",
              "          intercept_scaling=1, max_iter=100, multi_class='ovr', n_jobs=1,\n",
              "          penalty='l2', random_state=None, solver='liblinear', tol=0.0001,\n",
              "          verbose=0, warm_start=False)"
            ]
          },
          "metadata": {
            "tags": []
          },
          "execution_count": 10
        }
      ]
    },
    {
      "metadata": {
        "id": "UMtU75n3ANDY",
        "colab_type": "code",
        "colab": {}
      },
      "cell_type": "code",
      "source": [
        "with open('/content/drive/My Drive/log_models/clf2.pkl','wb') as f:\n",
        "  pickle.dump(clf,f)"
      ],
      "execution_count": 0,
      "outputs": []
    },
    {
      "metadata": {
        "id": "m_wvjWVhAmWd",
        "colab_type": "code",
        "colab": {}
      },
      "cell_type": "code",
      "source": [
        ""
      ],
      "execution_count": 0,
      "outputs": []
    },
    {
      "metadata": {
        "id": "7driFgCFeILi",
        "colab_type": "text"
      },
      "cell_type": "markdown",
      "source": [
        "**Observations:**\n",
        "1. Percent of features whose collinearity_percent is more than 5%  is 7.07%.\n",
        "2. removing the weights of those features by equating it to zero.\n",
        "3. The score of the model after removal of the features is0.9557908892250799.\n",
        "4. The model score doesnt improve with removal of more features."
      ]
    },
    {
      "metadata": {
        "id": "wFJYL_shuGN9",
        "colab_type": "text"
      },
      "cell_type": "markdown",
      "source": [
        "**Important features:**\n"
      ]
    },
    {
      "metadata": {
        "id": "6T9U_kj1XT5a",
        "colab_type": "code",
        "outputId": "e9abb02d-9b7b-40d9-c868-423e8fbdab29",
        "colab": {
          "base_uri": "https://localhost:8080/",
          "height": 121
        }
      },
      "cell_type": "code",
      "source": [
        "w = g_model1.best_estimator_.coef_\n",
        "w_sorted_negative = np.argsort(w)[0] #taking the abslute values of weights\n",
        "w_sorted_positive = np.argsort(w)[0][::-1]\n",
        "print('The important positive features of the model are \\n',np.take(bow_model.get_feature_names(),w_sorted_positive[0:10]))\n",
        "print('The important negative features of the model are \\n',np.take(bow_model.get_feature_names(),w_sorted_negative[0:10]))"
      ],
      "execution_count": 0,
      "outputs": [
        {
          "output_type": "stream",
          "text": [
            "The important positive features of the model are \n",
            " ['great' 'love' 'best' 'good' 'delici' 'excel' 'perfect' 'favorit' 'nice'\n",
            " 'wonder']\n",
            "The important negative features of the model are \n",
            " ['disappoint' 'worst' 'terribl' 'horribl' 'unfortun' 'aw' 'stale' 'return'\n",
            " 'bland' 'would']\n"
          ],
          "name": "stdout"
        }
      ]
    },
    {
      "metadata": {
        "id": "6d8dpY6JR0CR",
        "colab_type": "text"
      },
      "cell_type": "markdown",
      "source": [
        "# Tf-Idf"
      ]
    },
    {
      "metadata": {
        "id": "4TjfyTcaSB7Y",
        "colab_type": "code",
        "colab": {}
      },
      "cell_type": "code",
      "source": [
        "#tfidf model\n",
        "\n",
        "tfidf_model = TfidfVectorizer(ngram_range=(1,2))\n",
        "tfidf_x_train_matrix = tfidf_model.fit_transform(x_train)\n",
        "tfidf_x_test_matrix = tfidf_model.transform(x_test)\n",
        "\n",
        "#standardising the data\n",
        "scaler = StandardScaler(with_mean=False)\n",
        "tfidf_x_train = scaler.fit_transform(tfidf_x_train_matrix)\n",
        "tfidf_x_test = scaler.transform(tfidf_x_test_matrix)"
      ],
      "execution_count": 0,
      "outputs": []
    },
    {
      "metadata": {
        "id": "pcpkaZy8yW5n",
        "colab_type": "text"
      },
      "cell_type": "markdown",
      "source": [
        "**Logistic Regression - Random hyperparameter search using L2 Regularisation**"
      ]
    },
    {
      "metadata": {
        "id": "xiGITjSmv9PV",
        "colab_type": "code",
        "outputId": "3796a334-7b01-4553-df67-957d4887a14d",
        "colab": {
          "base_uri": "https://localhost:8080/",
          "height": 422
        }
      },
      "cell_type": "code",
      "source": [
        "#RandomizedsearchCV\n",
        "\n",
        "params = {'C' : [1000,500,100,50,25,10,5,1,0.1,0.5,0.01,0.05,0.001,0.0001]}\n",
        "r_model2 = RandomizedSearchCV(LogisticRegression(),params,scoring='f1_micro',cv=5,n_jobs=-1)\n",
        "r_model2.fit(tfidf_x_train,y_train)\n",
        "\n",
        "c_random = r_model2.best_estimator_.C\n",
        "\n",
        "#plot confusion matrix\n",
        "train_pred = r_model2.predict(tfidf_x_train)\n",
        "test_pred = r_model2.predict(tfidf_x_test)\n",
        "\n",
        "conf1 = confusion_matrix(y_train,train_pred)\n",
        "conf2 = confusion_matrix(y_test,test_pred)\n",
        "\n",
        "plt.figure(1,figsize=(15,5))\n",
        "plt.title('Train-data')\n",
        "plt.subplot(1,2,1)\n",
        "sn.heatmap(conf1,annot=conf1,cbar=True,cmap='Blues')\n",
        "plt.subplot(1,2,2)\n",
        "plt.title('Test-data')\n",
        "sn.heatmap(conf2,annot=conf2,cbar=True,cmap='Blues')\n",
        "plt.show()\n",
        "\n",
        "print('Randomized search - C: %f, train_score : %f , test_score : %f' %(r_model2.best_estimator_.C,r_model2.score(tfidf_x_train,y_train),r_model2.score(tfidf_x_test,y_test)))\n",
        "\n",
        "\n",
        "print('True negative rate',conf2[0][0] / (conf2[0][0] + conf2[1][0]))\n",
        "print('Roc-auc score    ',roc_auc_score(y_test,test_pred))\n",
        "print('Precision score on test data :',precision_score(y_test,test_pred))\n",
        "print('Recall score test-data : ',recall_score(y_test,test_pred))\n"
      ],
      "execution_count": 0,
      "outputs": [
        {
          "output_type": "display_data",
          "data": {
            "image/png": "[encoded data removed]",
            "text/plain": [
              "<matplotlib.figure.Figure at 0x7f0f6eb68748>"
            ]
          },
          "metadata": {
            "tags": []
          }
        },
        {
          "output_type": "stream",
          "text": [
            "Randomized search - C: 500.000000, train_score : 0.999986 , test_score : 0.903033\n",
            "True negative rate 0.8978021978021978\n",
            "Roc-auc score     0.6106779402987814\n",
            "Precision score on test data : 0.9031969749054658\n",
            "Recall score test-data :  0.9964728638070315\n"
          ],
          "name": "stdout"
        }
      ]
    },
    {
      "metadata": {
        "id": "IGHTJG5z0XKX",
        "colab_type": "code",
        "colab": {}
      },
      "cell_type": "code",
      "source": [
        "with open('/content/drive/My Drive/log_models/tfidf_r.pkl','wb') as f:\n",
        "  pickle.dump(r_model2,f)"
      ],
      "execution_count": 0,
      "outputs": []
    },
    {
      "metadata": {
        "id": "vBYwA5JSbSYw",
        "colab_type": "text"
      },
      "cell_type": "markdown",
      "source": [
        "**Logistic Regression - Grid hyperparameter search  using L2 Regularisation**"
      ]
    },
    {
      "metadata": {
        "id": "fTKuQaWfwM9Y",
        "colab_type": "code",
        "outputId": "5af69866-b287-4fa5-ee6e-141a31e5e61e",
        "colab": {
          "base_uri": "https://localhost:8080/",
          "height": 407
        }
      },
      "cell_type": "code",
      "source": [
        "#GridsearchCV\n",
        "c_range = [1000,500,100,50,25,10,5,1,0.1,0.5,0.01,0.05,0.001,0.0001] \n",
        "params = {'C': c_range}\n",
        "g_model2 = GridSearchCV(LogisticRegression(),params,scoring='f1_micro',cv=5)\n",
        "g_model2.fit(tfidf_x_train,y_train)\n",
        "\n",
        "#plot confusion matrix\n",
        "train_pred = g_model2.predict(tfidf_x_train)\n",
        "test_pred = g_model2.predict(tfidf_x_test)\n",
        "\n",
        "conf3 = confusion_matrix(y_train,train_pred)\n",
        "conf4 = confusion_matrix(y_test,test_pred)\n",
        "\n",
        "plt.figure(1,figsize=(15,5))\n",
        "plt.subplot(1,2,1)\n",
        "sn.heatmap(conf3,annot=conf3,cbar=True,cmap='Blues')\n",
        "plt.subplot(1,2,2)\n",
        "sn.heatmap(conf4,annot=conf4,cbar=True,cmap='Blues')\n",
        "plt.show()\n",
        "\n",
        "print('Gridsearch - C : %f, train_score - %f,test_score : %f' %(g_model2.best_estimator_.C,g_model2.score(tfidf_x_train,y_train),g_model2.score(tfidf_x_test,y_test)) )\n",
        "\n",
        "print('True negative rate',conf4[0][0] / (conf4[0][0] + conf4[1][0]))\n",
        "print('Roc-auc score    ',roc_auc_score(y_test,test_pred))\n",
        "print('Precision score on test data :',precision_score(y_test,test_pred))\n",
        "print('Recall score test-data : ',recall_score(y_test,test_pred))\n"
      ],
      "execution_count": 0,
      "outputs": [
        {
          "output_type": "display_data",
          "data": {
            "image/png": "[encoded data removed]",
            "text/plain": [
              "<matplotlib.figure.Figure at 0x7f0f6b495710>"
            ]
          },
          "metadata": {
            "tags": []
          }
        },
        {
          "output_type": "stream",
          "text": [
            "Gridsearch - C : 500.000000, train_score - 0.999986,test_score : 0.903033\n",
            "True negative rate 0.8978021978021978\n",
            "Roc-auc score     0.6106779402987814\n",
            "Precision score on test data : 0.9031969749054658\n",
            "Recall score test-data :  0.9964728638070315\n"
          ],
          "name": "stdout"
        }
      ]
    },
    {
      "metadata": {
        "id": "bHibEwXCLbOT",
        "colab_type": "code",
        "colab": {}
      },
      "cell_type": "code",
      "source": [
        "with open('/content/drive/My Drive/log_models/tfidf_g.pkl','wb') as f:\n",
        "  pickle.dump(g_model2,f)"
      ],
      "execution_count": 0,
      "outputs": []
    },
    {
      "metadata": {
        "id": "ZZMlSPLgqAUy",
        "colab_type": "text"
      },
      "cell_type": "markdown",
      "source": [
        "**Hyperparameter search using L1 Regularisation**"
      ]
    },
    {
      "metadata": {
        "id": "HdftqG3HqF5q",
        "colab_type": "code",
        "outputId": "633db816-51da-4ff4-985a-92cb99acc160",
        "colab": {
          "base_uri": "https://localhost:8080/",
          "height": 424
        }
      },
      "cell_type": "code",
      "source": [
        "#GridsearchCV\n",
        "c_range = [1000,500,100,50,25,10,5,1,0.1,0.5,0.01,0.05,0.001,0.0001] \n",
        "params = {'C': c_range}\n",
        "model3 = RandomizedSearchCV(LogisticRegression(penalty='l1'),params,scoring='f1_micro',cv=5)\n",
        "model3.fit(tfidf_x_train,y_train)\n",
        "\n",
        "#plot confusion matrix\n",
        "train_pred = model3.predict(tfidf_x_train)\n",
        "test_pred = model3.predict(tfidf_x_test)\n",
        "\n",
        "conf3 = confusion_matrix(y_train,train_pred)\n",
        "conf4 = confusion_matrix(y_test,test_pred)\n",
        "\n",
        "print('true negative rate',conf4[0][0] / (conf4[0][0] + conf4[1][0]))\n",
        "\n",
        "plt.figure(1,figsize=(15,5))\n",
        "plt.subplot(1,2,1)\n",
        "sn.heatmap(conf3,annot=conf3,cbar=True,cmap='Blues')\n",
        "plt.subplot(1,2,2)\n",
        "sn.heatmap(conf4,annot=conf4,cbar=True,cmap='Blues')\n",
        "plt.show()\n",
        "\n",
        "print('Gridsearch - C : %f, train_score - %f,test_score : %f' %(g_model2.best_estimator_.C,g_model2.score(tfidf_x_train,y_train),g_model2.score(tfidf_x_test,y_test)) )\n",
        "\n",
        "print('True negative rate',conf4[0][0] / (conf4[0][0] + conf4[1][0]))\n",
        "print('Roc-auc score    ',roc_auc_score(y_test,test_pred))\n",
        "print('Precision score on test data :',precision_score(y_test,test_pred))\n",
        "print('Recall score test-data : ',recall_score(y_test,test_pred))"
      ],
      "execution_count": 0,
      "outputs": [
        {
          "output_type": "stream",
          "text": [
            "true negative rate 0.8170459616242749\n"
          ],
          "name": "stdout"
        },
        {
          "output_type": "display_data",
          "data": {
            "image/png": "[encoded data removed]",
            "text/plain": [
              "<matplotlib.figure.Figure at 0x7f0f6ebc22b0>"
            ]
          },
          "metadata": {
            "tags": []
          }
        },
        {
          "output_type": "stream",
          "text": [
            "Gridsearch - C : 500.000000, train_score - 0.999986,test_score : 0.903033\n",
            "True negative rate 0.8170459616242749\n",
            "Roc-auc score     0.7442207258234517\n",
            "Precision score on test data : 0.9350841168629994\n",
            "Recall score test-data :  0.98445025979444\n"
          ],
          "name": "stdout"
        }
      ]
    },
    {
      "metadata": {
        "id": "HYnWchdT0raF",
        "colab_type": "code",
        "colab": {}
      },
      "cell_type": "code",
      "source": [
        "with open('/content/drive/My Drive/log_models/tfidf_l1.pkl','wb') as f:\n",
        "  pickle.dump(model3,f)"
      ],
      "execution_count": 0,
      "outputs": []
    },
    {
      "metadata": {
        "id": "dXyHHaebFjGJ",
        "colab_type": "text"
      },
      "cell_type": "markdown",
      "source": [
        "**Obserations:**\n",
        "1 . False positive  and false negative rate is low on train and test data."
      ]
    },
    {
      "metadata": {
        "id": "U0W5hMAU5jIt",
        "colab_type": "text"
      },
      "cell_type": "markdown",
      "source": [
        "**Important Features:**\n"
      ]
    },
    {
      "metadata": {
        "id": "h2dHX_625hLy",
        "colab_type": "code",
        "outputId": "ab462394-0124-4866-b522-bca5905e909a",
        "colab": {
          "base_uri": "https://localhost:8080/",
          "height": 121
        }
      },
      "cell_type": "code",
      "source": [
        "w = g_model2.best_estimator_.coef_\n",
        "w_sorted_negative = np.argsort(w)[0]\n",
        "w_sorted_positive = np.argsort(w)[0][::-1] #taking the abslute values of weights\n",
        "print('The important positive features of the model are \\n',np.take(tfidf_model.get_feature_names(),w_sorted_positive[0:10]))\n",
        "print('The important negative features of the model are \\n',np.take(tfidf_model.get_feature_names(),w_sorted_negative[0:10]))"
      ],
      "execution_count": 0,
      "outputs": [
        {
          "output_type": "stream",
          "text": [
            "The important positive features of the model are \n",
            " ['great' 'love' 'good' 'best' 'excel' 'delici' 'favorit' 'use' 'find'\n",
            " 'price']\n",
            "The important negative features of the model are \n",
            " ['worth' 'worst' 'disappoint' 'condit good' 'terribl' 'wast money' 'stale'\n",
            " 'horribl' 'wont buy' 'aw']\n"
          ],
          "name": "stdout"
        }
      ]
    },
    {
      "metadata": {
        "id": "lx79u05bRzx3",
        "colab_type": "text"
      },
      "cell_type": "markdown",
      "source": [
        "# AverageWord2Vector"
      ]
    },
    {
      "metadata": {
        "colab_type": "code",
        "id": "Vbia8wuZw26t",
        "outputId": "0000ded2-e9ef-4a25-f676-94073543a08e",
        "colab": {
          "base_uri": "https://localhost:8080/",
          "height": 52
        }
      },
      "cell_type": "code",
      "source": [
        "list_of_sent_train = []\n",
        "for i in x_train.values:\n",
        "  list_of_sent_train.append(i.split())\n",
        "list_of_sent_test = []\n",
        "for i in x_test.values:\n",
        "  list_of_sent_test.append(i.split())\n",
        "  \n",
        "w2v_model = Word2Vec(list_of_sent_train,min_count=5,size=50)\n",
        "w2v_words = list(w2v_model.wv.vocab)\n",
        "\n",
        "# compute average word2vec for each review.\n",
        "sent_vectors_x_train = []; # the avg-w2v for each sentence/review is stored in this list\n",
        "for sent in tqdm(list_of_sent_train): # for each review/sentence\n",
        "    sent_vec_x_train = np.zeros(50) # as word vectors are of zero length\n",
        "    cnt_words =0; # num of words with a valid vector in the sentence/review\n",
        "    for word in sent: # for each word in a review/sentence\n",
        "        if word in w2v_words:\n",
        "            vec = w2v_model.wv[word]\n",
        "            sent_vec_x_train += vec\n",
        "            cnt_words += 1\n",
        "    if cnt_words != 0:\n",
        "        sent_vec_x_train /= cnt_words\n",
        "    sent_vectors_x_train.append(sent_vec_x_train)\n",
        "    \n",
        "# compute average word2vec for each review.\n",
        "sent_vectors_x_test = []; # the avg-w2v for each sentence/review is stored in this list\n",
        "for sent in tqdm(list_of_sent_test): # for each review/sentence\n",
        "    sent_vec_x_test = np.zeros(50) # as word vectors are of zero length\n",
        "    cnt_words =0; # num of words with a valid vector in the sentence/review\n",
        "    for word in sent: # for each word in a review/sentence\n",
        "        if word in w2v_words:\n",
        "            vec = w2v_model.wv[word]\n",
        "            sent_vec_x_test += vec\n",
        "            cnt_words += 1\n",
        "    if cnt_words != 0:\n",
        "        sent_vec_x_test /= cnt_words\n",
        "    sent_vectors_x_test.append(sent_vec_x_test)\n",
        "\n",
        "#standardising the data\n",
        "\n",
        "scaler = StandardScaler()\n",
        "w2v_x_train = scaler.fit_transform(sent_vectors_x_train)\n",
        "w2v_x_test = scaler.transform(sent_vectors_x_test)"
      ],
      "execution_count": 0,
      "outputs": [
        {
          "output_type": "stream",
          "text": [
            "100%|██████████| 70000/70000 [01:26<00:00, 812.84it/s]\n",
            "100%|██████████| 30000/30000 [00:37<00:00, 807.01it/s]\n"
          ],
          "name": "stderr"
        }
      ]
    },
    {
      "metadata": {
        "id": "w_S5MYVUN_TN",
        "colab_type": "text"
      },
      "cell_type": "markdown",
      "source": [
        "**Logistic Regression - Random hyperparameter search using L2 Regularisation**"
      ]
    },
    {
      "metadata": {
        "id": "YI7X9RdUo2sc",
        "colab_type": "code",
        "outputId": "177152de-800e-42b3-94f8-00d661161e19",
        "colab": {
          "base_uri": "https://localhost:8080/",
          "height": 407
        }
      },
      "cell_type": "code",
      "source": [
        "# Hyperparameter search - Random search\n",
        "params = {'C': [1000,100,50,10,5,1,0.1,0.5,0.01,0.05,0.001,0.0001]} \n",
        "r_model3 = RandomizedSearchCV(LogisticRegression(),params,scoring='f1',cv=5)\n",
        "r_model3.fit(w2v_x_train,y_train)\n",
        "c = r_model3.best_estimator_.C\n",
        "\n",
        "#confusion matrix\n",
        "train_pred = r_model3.predict(w2v_x_train)\n",
        "test_pred = r_model3.predict(w2v_x_test)\n",
        "conf1 = confusion_matrix(y_train,train_pred)\n",
        "conf2 = confusion_matrix(y_test,test_pred)\n",
        "\n",
        "plt.figure(1,figsize=(15,5))\n",
        "plt.subplot(1,2,1)\n",
        "sn.heatmap(conf1,annot=conf1,cbar=True,cmap='Blues')\n",
        "plt.subplot(1,2,2)\n",
        "sn.heatmap(conf2,annot=conf2,cbar=True,cmap='Blues')\n",
        "plt.show()\n",
        "\n",
        "print('RandomizedsearchCV - Best_parameters : %s,train-score - %f,test_score : %f ' %(r_model3.best_params_,r_model3.score(w2v_x_train,y_train),r_model3.score(w2v_x_test,y_test)))\n",
        "\n",
        "print('True negative rate',conf2[0][0] / (conf2[0][0] + conf2[1][0]))\n",
        "print('Roc-auc score on test-data : ',roc_auc_score(y_test,test_pred))\n",
        "print('Recall score on test-data :',recall_score(y_test,test_pred))\n",
        "print('Precision score on test-data :',precision_score(y_test,test_pred))\n"
      ],
      "execution_count": 0,
      "outputs": [
        {
          "output_type": "display_data",
          "data": {
            "image/png": "[encoded data removed]",
            "text/plain": [
              "<matplotlib.figure.Figure at 0x7f0f6eb68b70>"
            ]
          },
          "metadata": {
            "tags": []
          }
        },
        {
          "output_type": "stream",
          "text": [
            "RandomizedsearchCV - Best_parameters : {'C': 0.1},train-score - 0.946666,test_score : 0.948470 \n",
            "True negative rate 0.7086891009542943\n",
            "Roc-auc score on test-data :  0.6831935309873773\n",
            "Recall score on test-data : 0.9780028065384762\n",
            "Precision score on test-data : 0.9206683565996644\n"
          ],
          "name": "stdout"
        }
      ]
    },
    {
      "metadata": {
        "id": "IUwhTOV11Dgg",
        "colab_type": "code",
        "colab": {}
      },
      "cell_type": "code",
      "source": [
        "with open('/content/drive/My Drive/log_models/w2v_r.pkl','wb') as f:\n",
        "  pickle.dump(r_model3,f)"
      ],
      "execution_count": 0,
      "outputs": []
    },
    {
      "metadata": {
        "id": "gWWA_R-gOPRN",
        "colab_type": "text"
      },
      "cell_type": "markdown",
      "source": [
        "**Logistic Regression - Grid hyperparameter search using L2 Regularisation**"
      ]
    },
    {
      "metadata": {
        "id": "yv4fLj9yNIDm",
        "colab_type": "code",
        "outputId": "570f086e-299c-46c0-a548-4c742cca7cfb",
        "colab": {
          "base_uri": "https://localhost:8080/",
          "height": 422
        }
      },
      "cell_type": "code",
      "source": [
        "\n",
        "#Grid search\n",
        "params2 = {'C' :[1000,100,50,10,5,1,0.1,0.5,0.01,0.05,0.001,0.0001]}\n",
        "g_model3 = GridSearchCV(LogisticRegression(),params2,scoring='f1',cv=5)\n",
        "g_model3.fit(w2v_x_train,y_train)\n",
        "\n",
        "#confusion matrix\n",
        "train_pred = g_model3.predict(w2v_x_train)\n",
        "test_pred = g_model3.predict(w2v_x_test)\n",
        "conf3 = confusion_matrix(y_train,train_pred)\n",
        "conf4 = confusion_matrix(y_test,test_pred)\n",
        "\n",
        "plt.figure(1,figsize=(15,5))\n",
        "plt.subplot(1,2,1)\n",
        "plt.title('Train-data')\n",
        "sn.heatmap(conf4,annot=conf4,cbar=True,cmap='Blues')\n",
        "plt.subplot(1,2,2)\n",
        "plt.title('Test-data')\n",
        "sn.heatmap(conf4,annot=conf4,cbar=True,cmap='Blues')\n",
        "plt.show()\n",
        "\n",
        "print('GridsearchCV - Best_params: %s , train_score - %f, test_score : %f' %(g_model3.best_params_,g_model3.score(w2v_x_train,y_train),g_model3.score(w2v_x_test,y_test)))\n",
        "\n",
        "print('True negative rate',conf4[0][0] / (conf4[0][0] + conf4[1][0]))\n",
        "print('Roc-auc score on test-data : ',roc_auc_score(y_test,test_pred))\n",
        "print('Recall score on test-data :',recall_score(y_test,test_pred))\n",
        "print('Precision score on test-data :',precision_score(y_test,test_pred))"
      ],
      "execution_count": 0,
      "outputs": [
        {
          "output_type": "display_data",
          "data": {
            "image/png": "[encoded data removed]",
            "text/plain": [
              "<matplotlib.figure.Figure at 0x7f0f694ed780>"
            ]
          },
          "metadata": {
            "tags": []
          }
        },
        {
          "output_type": "stream",
          "text": [
            "GridsearchCV - Best_params: {'C': 0.1} , train_score - 0.946666, test_score : 0.948470\n",
            "True negative rate 0.7086891009542943\n",
            "Roc-auc score on test-data :  0.6831935309873773\n",
            "Recall score on test-data : 0.9780028065384762\n",
            "Precision score on test-data : 0.9206683565996644\n"
          ],
          "name": "stdout"
        }
      ]
    },
    {
      "metadata": {
        "id": "hiZSE3_91KIk",
        "colab_type": "code",
        "colab": {}
      },
      "cell_type": "code",
      "source": [
        "with open('/content/drive/My Drive/log_models/w2v_g.pkl','wb') as f:\n",
        "  pickle.dump(g_model3,f)"
      ],
      "execution_count": 0,
      "outputs": []
    },
    {
      "metadata": {
        "id": "yCps6mzATa3S",
        "colab_type": "text"
      },
      "cell_type": "markdown",
      "source": [
        "**Hyperparameter search using L1 Regularisation**"
      ]
    },
    {
      "metadata": {
        "id": "epeFBw5MTaGV",
        "colab_type": "code",
        "outputId": "d32324a7-b408-41ff-c72d-b66b55ddd467",
        "colab": {
          "base_uri": "https://localhost:8080/",
          "height": 407
        }
      },
      "cell_type": "code",
      "source": [
        "# Hyperparameter search - Random search\n",
        "params = {'C': [1000,100,50,10,5,1,0.1,0.5,0.01,0.05,0.001,0.0001]} \n",
        "model4 = RandomizedSearchCV(LogisticRegression(penalty='l1'),params,scoring='f1',cv=5)\n",
        "model4.fit(w2v_x_train,y_train)\n",
        "c = r_model3.best_estimator_.C\n",
        "\n",
        "#confusion matrix\n",
        "train_pred = model4.predict(w2v_x_train)\n",
        "test_pred = model4.predict(w2v_x_test)\n",
        "conf1 = confusion_matrix(y_train,train_pred)\n",
        "conf2 = confusion_matrix(y_test,test_pred)\n",
        "\n",
        "plt.figure(1,figsize=(15,5))\n",
        "plt.subplot(1,2,1)\n",
        "sn.heatmap(conf1,annot=conf1,cbar=True,cmap='Blues')\n",
        "plt.subplot(1,2,2)\n",
        "sn.heatmap(conf2,annot=conf2,cbar=True,cmap='Blues')\n",
        "plt.show()\n",
        "\n",
        "print('RandomizedsearchCV - Best_parameters : %s,train-score - %f,test_score : %f ' %(r_model3.best_params_,r_model3.score(w2v_x_train,y_train),r_model3.score(w2v_x_test,y_test)))\n",
        "\n",
        "print('True negative rate',conf2[0][0] / (conf2[0][0] + conf2[1][0]))\n",
        "print('Roc-auc score on test-data : ',roc_auc_score(y_test,test_pred))\n",
        "print('Recall score on test-data :',recall_score(y_test,test_pred))\n",
        "print('Precision score on test-data :',precision_score(y_test,test_pred))"
      ],
      "execution_count": 0,
      "outputs": [
        {
          "output_type": "display_data",
          "data": {
            "image/png": "[encoded data removed]",
            "text/plain": [
              "<matplotlib.figure.Figure at 0x7f0f5601a4e0>"
            ]
          },
          "metadata": {
            "tags": []
          }
        },
        {
          "output_type": "stream",
          "text": [
            "RandomizedsearchCV - Best_parameters : {'C': 0.1},train-score - 0.946666,test_score : 0.948470 \n",
            "True negative rate 0.7077306733167082\n",
            "Roc-auc score on test-data :  0.6841807708425662\n",
            "Recall score on test-data : 0.9777752493647363\n",
            "Precision score on test-data : 0.9209144490087515\n"
          ],
          "name": "stdout"
        }
      ]
    },
    {
      "metadata": {
        "id": "HH87I3oy1T97",
        "colab_type": "code",
        "colab": {}
      },
      "cell_type": "code",
      "source": [
        "with open('/content/drive/My Drive/log_models/w2v_l1.pkl','wb') as f:\n",
        "  pickle.dump(model4,f)"
      ],
      "execution_count": 0,
      "outputs": []
    },
    {
      "metadata": {
        "id": "DTTDNr8hY6Dm",
        "colab_type": "text"
      },
      "cell_type": "markdown",
      "source": [
        "**Sparsity**"
      ]
    },
    {
      "metadata": {
        "id": "wPSsCsDIY759",
        "colab_type": "code",
        "outputId": "6baffa05-2a1a-4a20-a51f-87c451a2389a",
        "colab": {
          "base_uri": "https://localhost:8080/",
          "height": 34
        }
      },
      "cell_type": "code",
      "source": [
        "w = r_model3.best_estimator_.coef_\n",
        "print('The number of non zero weights',np.count_nonzero(w[0]))"
      ],
      "execution_count": 0,
      "outputs": [
        {
          "output_type": "stream",
          "text": [
            "The number of non zero weights 50\n"
          ],
          "name": "stdout"
        }
      ]
    },
    {
      "metadata": {
        "id": "Ylz0pSLUZTdQ",
        "colab_type": "code",
        "outputId": "9a4cc94f-3ad3-4142-bdcd-96716b8401ab",
        "colab": {
          "base_uri": "https://localhost:8080/",
          "height": 191
        }
      },
      "cell_type": "code",
      "source": [
        "w"
      ],
      "execution_count": 0,
      "outputs": [
        {
          "output_type": "execute_result",
          "data": {
            "text/plain": [
              "array([[-0.33783895,  0.01499791, -0.03490161,  0.6869163 , -0.07098764,\n",
              "        -0.00459371, -0.31087602,  0.23215088,  0.4096571 ,  0.1239868 ,\n",
              "        -0.4802402 ,  0.10997965, -0.14526203,  0.24242431,  0.00566753,\n",
              "        -0.10670321,  0.02305682, -0.40519086,  0.25506858,  0.41294166,\n",
              "         0.38567995,  0.26353717,  0.1129458 ,  0.50053474,  0.12926609,\n",
              "         0.21051687, -0.29408942,  0.22303154,  0.54434133, -0.10042693,\n",
              "         0.09355113,  0.70376397, -0.0338835 ,  0.53377288, -0.01423394,\n",
              "        -0.13356722, -0.08411812, -0.23483684, -0.0050231 ,  0.05374268,\n",
              "         0.21780756, -0.12254833, -0.09062104, -0.21990494,  0.10944912,\n",
              "         0.05959897,  0.01203609, -0.16389407, -0.34270922,  0.23254908]])"
            ]
          },
          "metadata": {
            "tags": []
          },
          "execution_count": 34
        }
      ]
    },
    {
      "metadata": {
        "id": "kVoAz2FjGVet",
        "colab_type": "text"
      },
      "cell_type": "markdown",
      "source": [
        "**Obserations:**\n",
        "1. l2 regularisation gives better performance than l1 regularisation.\n",
        "2. False positive rate is 30%."
      ]
    },
    {
      "metadata": {
        "id": "hm94QNYXRzfJ",
        "colab_type": "text"
      },
      "cell_type": "markdown",
      "source": [
        "# Tf-Idf weighted Word2Vec"
      ]
    },
    {
      "metadata": {
        "id": "JUrs651LoPuz",
        "colab_type": "code",
        "outputId": "feeb46f9-56c5-4585-8566-dec74076e3a3",
        "colab": {
          "base_uri": "https://localhost:8080/",
          "height": 52
        }
      },
      "cell_type": "code",
      "source": [
        "#tfidf model.\n",
        "tfidf_model2 = TfidfVectorizer()\n",
        "tfidf_x_train = tfidf_model2.fit_transform(x_train)\n",
        "idf_dict = dict(zip(tfidf_model2.get_feature_names(),list(tfidf_model2.idf_)))\n",
        "\n",
        "# tfidfw2v vectors\n",
        "\n",
        "tfidf_x_train_vectors = []; # the tfidf-w2v for each sentence/review is stored in this list\n",
        "for sent in tqdm(list_of_sent_train): # for each review/sentence \n",
        "    sent_vec = np.zeros(50) # as word vectors are of zero length\n",
        "    weight_sum =0; # num of words with a valid vector in the sentence/review\n",
        "    for word in sent: # for each word in a review/sentence\n",
        "        if word in w2v_words:\n",
        "            vec = w2v_model.wv[word]\n",
        "\n",
        "            tf_idf = idf_dict[word]*(sent.count(word)/len(sent))\n",
        "            sent_vec += (vec * tf_idf)\n",
        "            weight_sum += tf_idf\n",
        "    if weight_sum != 0:\n",
        "        sent_vec /= weight_sum\n",
        "    tfidf_x_train_vectors.append(sent_vec)\n",
        "\n",
        "tfidf_x_test_vectors = []; # the tfidf-w2v for each sentence/review is stored in this list\n",
        "for sent in tqdm(list_of_sent_test): # for each review/sentence \n",
        "    sent_vec = np.zeros(50) # as word vectors are of zero length\n",
        "    weight_sum =0; # num of words with a valid vector in the sentence/review\n",
        "    for word in sent: # for each word in a review/sentence\n",
        "        if word in w2v_words:\n",
        "            vec = w2v_model.wv[word]\n",
        "\n",
        "            tf_idf = idf_dict[word]*(sent.count(word)/len(sent))\n",
        "            sent_vec += (vec * tf_idf)\n",
        "            weight_sum += tf_idf\n",
        "    if weight_sum != 0:\n",
        "        sent_vec /= weight_sum\n",
        "    tfidf_x_test_vectors.append(sent_vec)\n",
        "\n",
        "#standardising the data\n",
        "\n",
        "scaler = StandardScaler()\n",
        "tfidfw2v_train = scaler.fit_transform(tfidf_x_train_vectors)\n",
        "tfidfw2v_test = scaler.transform(tfidf_x_test_vectors)"
      ],
      "execution_count": 0,
      "outputs": [
        {
          "output_type": "stream",
          "text": [
            "100%|██████████| 70000/70000 [02:23<00:00, 486.87it/s]\n",
            "100%|██████████| 30000/30000 [01:03<00:00, 473.67it/s]\n"
          ],
          "name": "stderr"
        }
      ]
    },
    {
      "metadata": {
        "id": "yqhoH_bM9drP",
        "colab_type": "text"
      },
      "cell_type": "markdown",
      "source": [
        "**Logistic Regression - Random hyperparameter search using L2 Regularisation**"
      ]
    },
    {
      "metadata": {
        "id": "9zGiyBvfrX9a",
        "colab_type": "code",
        "outputId": "c35c765a-d476-48d2-eac6-d69c3c8038fb",
        "colab": {
          "base_uri": "https://localhost:8080/",
          "height": 422
        }
      },
      "cell_type": "code",
      "source": [
        "#Hyperparameter search - random\n",
        "\n",
        "params = {'C': [1000,500,100,50,25,10,5,1,0.1,0.5,0.01,0.05,0.001,0.0001]}\n",
        "r_model4 = RandomizedSearchCV(LogisticRegression(),params,scoring='average_precision',cv=5)\n",
        "r_model4.fit(tfidfw2v_train,y_train)\n",
        "c = r_model4.best_estimator_.C\n",
        "\n",
        "train_pred = r_model4.predict(tfidfw2v_train)\n",
        "test_pred = r_model4.predict(tfidfw2v_test)\n",
        "conf2 = confusion_matrix(y_test,test_pred)\n",
        "conf1 = confusion_matrix(y_train,train_pred)\n",
        "\n",
        "plt.figure(1,figsize=(15,5))\n",
        "plt.subplot(1,2,1)\n",
        "plt.title('Train-data')\n",
        "sn.heatmap(conf1,annot=conf1,cbar=True,cmap='Blues')\n",
        "plt.subplot(1,2,2)\n",
        "plt.title('Test-data')\n",
        "sn.heatmap(conf2,annot=conf2,cbar=True,cmap='Blues')\n",
        "plt.show()\n",
        "\n",
        "print('RandomsearchCV - C : %f ,train-score : %f, test-score : %f' %(c,r_model4.score(tfidfw2v_train,y_train),r_model4.score(tfidfw2v_test,y_test)))\n",
        "\n",
        "print('True negative rate',conf2[0][0] / (conf2[0][0] + conf2[1][0]))\n",
        "print('Roc-auc score on test-data : ',roc_auc_score(y_test,test_pred))\n",
        "print('Recall score on test-data :',recall_score(y_test,test_pred))\n",
        "print('Precision score on test-data :',precision_score(y_test,test_pred))"
      ],
      "execution_count": 0,
      "outputs": [
        {
          "output_type": "display_data",
          "data": {
            "image/png": "[encoded data removed]",
            "text/plain": [
              "<matplotlib.figure.Figure at 0x7f0f56068eb8>"
            ]
          },
          "metadata": {
            "tags": []
          }
        },
        {
          "output_type": "stream",
          "text": [
            "RandomsearchCV - C : 0.100000 ,train-score : 0.977876, test-score : 0.977463\n",
            "True negative rate 0.660377358490566\n",
            "Roc-auc score on test-data :  0.6342685977019356\n",
            "Recall score on test-data : 0.9795198543634088\n",
            "Precision score on test-data : 0.9090813093980993\n"
          ],
          "name": "stdout"
        }
      ]
    },
    {
      "metadata": {
        "id": "xMYugJw_1o_9",
        "colab_type": "code",
        "colab": {}
      },
      "cell_type": "code",
      "source": [
        "with open('/content/drive/My Drive/log_models/tfidfw2v_r.pkl','wb') as f:\n",
        "  pickle.dump(r_model4,f)"
      ],
      "execution_count": 0,
      "outputs": []
    },
    {
      "metadata": {
        "id": "fVhC9E-49px1",
        "colab_type": "text"
      },
      "cell_type": "markdown",
      "source": [
        "**Logistic Regression - Grid hyperparameter search using L2 Regularisation**"
      ]
    },
    {
      "metadata": {
        "id": "DyOT93057MNF",
        "colab_type": "code",
        "outputId": "238b42c6-a2a2-44e5-bbf7-f28fa1dc069b",
        "colab": {
          "base_uri": "https://localhost:8080/",
          "height": 422
        }
      },
      "cell_type": "code",
      "source": [
        "\n",
        "#GRidsearch\n",
        "params = {'C' : [1000,500,100,50,25,10,5,1,0.1,0.5,0.01,0.05,0.001,0.0001]}\n",
        "g_model4 = GridSearchCV(LogisticRegression(),params,scoring='average_precision',cv=5)\n",
        "g_model4.fit(tfidfw2v_train,y_train)\n",
        "\n",
        "\n",
        "train_pred = g_model4.predict(tfidfw2v_train)\n",
        "test_pred = g_model4.predict(tfidfw2v_test)\n",
        "conf4 = confusion_matrix(y_test,test_pred)\n",
        "conf3 = confusion_matrix(y_train,train_pred)\n",
        "\n",
        "\n",
        "plt.figure(1,figsize=(15,5))\n",
        "plt.subplot(1,2,1)\n",
        "plt.title('Train-data')\n",
        "sn.heatmap(conf3,annot=conf3,cbar=True,cmap='Blues')\n",
        "plt.subplot(1,2,2)\n",
        "plt.title('Test-data')\n",
        "sn.heatmap(conf4,annot=conf4,cbar=True,cmap='Blues')\n",
        "plt.show()\n",
        "\n",
        "print('GridsearchCV - C : %f ,train-score : %f, test-score : %f ' %(g_model4.best_estimator_.C,g_model4.score(tfidfw2v_train,y_train),g_model4.score(tfidfw2v_test,y_test)))\n",
        "\n",
        "print('True negative rate',conf4[0][0] / (conf4[0][0] + conf4[1][0]))\n",
        "print('Roc-auc score on test-data : ',roc_auc_score(y_test,test_pred))\n",
        "print('Recall score on test-data :',recall_score(y_test,test_pred))\n",
        "print('Precision score on test-data :',precision_score(y_test,test_pred))\n"
      ],
      "execution_count": 0,
      "outputs": [
        {
          "output_type": "display_data",
          "data": {
            "image/png": "[encoded data removed]",
            "text/plain": [
              "<matplotlib.figure.Figure at 0x7f0f5505a3c8>"
            ]
          },
          "metadata": {
            "tags": []
          }
        },
        {
          "output_type": "stream",
          "text": [
            "GridsearchCV - C : 0.010000 ,train-score : 0.977895, test-score : 0.977447 \n",
            "True negative rate 0.6684420772303595\n",
            "Roc-auc score on test-data :  0.6287341917681866\n",
            "Recall score on test-data : 0.9811127545795881\n",
            "Precision score on test-data : 0.9077479121341848\n"
          ],
          "name": "stdout"
        }
      ]
    },
    {
      "metadata": {
        "id": "8-du1mhM1xg4",
        "colab_type": "code",
        "colab": {}
      },
      "cell_type": "code",
      "source": [
        "with open('/content/drive/My Drive/log_models/tfidfw2_g.pkl','wb') as f:\n",
        "  pickle.dump(g_model4,f)"
      ],
      "execution_count": 0,
      "outputs": []
    },
    {
      "metadata": {
        "id": "sGJnwyMBGvPJ",
        "colab_type": "text"
      },
      "cell_type": "markdown",
      "source": [
        "**Observations:**\n",
        "1. f1-metric gives best model performance.\n",
        "2. False positive rate is 34% due to class imbalance."
      ]
    },
    {
      "metadata": {
        "id": "w5FxuSQ4Gbkz",
        "colab_type": "text"
      },
      "cell_type": "markdown",
      "source": [
        "**Hyperparameter search using L1 Regularisation**"
      ]
    },
    {
      "metadata": {
        "id": "HY8CtQUKGVg0",
        "colab_type": "code",
        "outputId": "f1f96d37-96da-49e8-b059-64a1524fddf2",
        "colab": {
          "base_uri": "https://localhost:8080/",
          "height": 422
        }
      },
      "cell_type": "code",
      "source": [
        "#Hyperparameter search - random\n",
        "\n",
        "params = {'C': [1000,500,100,50,25,10,5,1,0.1,0.5,0.01,0.05,0.001,0.0001]}\n",
        "model5 = RandomizedSearchCV(LogisticRegression(penalty='l1'),params,scoring='f1',cv=5)\n",
        "model5.fit(tfidfw2v_train,y_train)\n",
        "c = model5.best_estimator_.C\n",
        "\n",
        "train_pred = model5.predict(tfidfw2v_train)\n",
        "test_pred = model5.predict(tfidfw2v_test)\n",
        "conf2 = confusion_matrix(y_test,test_pred)\n",
        "conf1 = confusion_matrix(y_train,train_pred)\n",
        "\n",
        "plt.figure(1,figsize=(15,5))\n",
        "plt.subplot(1,2,1)\n",
        "plt.title('Train-data')\n",
        "sn.heatmap(conf1,annot=conf1,cbar=True,cmap='Blues')\n",
        "plt.subplot(1,2,2)\n",
        "plt.title('Test-data')\n",
        "sn.heatmap(conf2,annot=conf2,cbar=True,cmap='Blues')\n",
        "plt.show()\n",
        "\n",
        "print('RandomsearchCV - C : %f ,train-score : %f, test-score : %f' %(c,r_model4.score(tfidfw2v_train,y_train),r_model4.score(tfidfw2v_test,y_test)))\n",
        "\n",
        "print('True negative rate',conf2[0][0] / (conf2[0][0] + conf2[1][0]))\n",
        "print('Roc-auc score on test-data : ',roc_auc_score(y_test,test_pred))\n",
        "print('Recall score on test-data :',recall_score(y_test,test_pred))\n",
        "print('Precision score on test-data :',precision_score(y_test,test_pred))"
      ],
      "execution_count": 0,
      "outputs": [
        {
          "output_type": "display_data",
          "data": {
            "image/png": "[encoded data removed]",
            "text/plain": [
              "<matplotlib.figure.Figure at 0x7f0f55b51f60>"
            ]
          },
          "metadata": {
            "tags": []
          }
        },
        {
          "output_type": "stream",
          "text": [
            "RandomsearchCV - C : 50.000000 ,train-score : 0.977876, test-score : 0.977463\n",
            "True negative rate 0.6579764121663563\n",
            "Roc-auc score on test-data :  0.635436276678581\n",
            "Recall score on test-data : 0.9791026662115523\n",
            "Precision score on test-data : 0.9093663038500828\n"
          ],
          "name": "stdout"
        }
      ]
    },
    {
      "metadata": {
        "id": "mR5uZd402ANW",
        "colab_type": "code",
        "colab": {}
      },
      "cell_type": "code",
      "source": [
        "with open('/content/drive/My Drive/log_models/tfidfw2v_l1.pkl','wb') as f:\n",
        "  pickle.dump(model5,f)"
      ],
      "execution_count": 0,
      "outputs": []
    },
    {
      "metadata": {
        "id": "iP_dZnT_L29x",
        "colab_type": "text"
      },
      "cell_type": "markdown",
      "source": [
        "**Sparsity**"
      ]
    },
    {
      "metadata": {
        "id": "Yraa_TG_L6h8",
        "colab_type": "code",
        "outputId": "1dca837f-5ec3-4b82-91c4-4ba4c5597512",
        "colab": {
          "base_uri": "https://localhost:8080/",
          "height": 34
        }
      },
      "cell_type": "code",
      "source": [
        "w = r_model4.best_estimator_.coef_\n",
        "print('The number of non-zero weights ',np.count_nonzero(w[0]))"
      ],
      "execution_count": 0,
      "outputs": [
        {
          "output_type": "stream",
          "text": [
            "The number of non-zero weights  50\n"
          ],
          "name": "stdout"
        }
      ]
    },
    {
      "metadata": {
        "id": "ZzeHBp3_snG_",
        "colab_type": "text"
      },
      "cell_type": "markdown",
      "source": [
        "# Conclusion:\n"
      ]
    },
    {
      "metadata": {
        "id": "cVV1ESx04hfz",
        "colab_type": "code",
        "outputId": "f16dca23-6521-41ab-f693-f20f98ca49d5",
        "colab": {
          "base_uri": "https://localhost:8080/",
          "height": 156
        }
      },
      "cell_type": "code",
      "source": [
        "x = PrettyTable()\n",
        "x.field_names = [\"Vectorizer\",\"Hyperparameter\",\"Train-Score\",\"Test-Score\"]\n",
        "x.add_row(['BOW','0.00265995','0.987468','0.955810 '])\n",
        "x.add_row(['Tf-IDF','0.908561','0.999992','0.944366'])\n",
        "x.add_row(['avgW2V','0.599747','0.903329','0.906167'])\n",
        "x.add_row(['Tf-Idf weighed W2v','0.828218','0.941996','0.943134'])\n",
        "print(x)"
      ],
      "execution_count": 0,
      "outputs": [
        {
          "output_type": "stream",
          "text": [
            "+--------------------+----------------+-------------+------------+\n",
            "|     Vectorizer     | Hyperparameter | Train-Score | Test-Score |\n",
            "+--------------------+----------------+-------------+------------+\n",
            "|        BOW         |   0.00265995   |   0.987468  | 0.955810   |\n",
            "|       Tf-IDF       |    0.908561    |   0.999992  |  0.944366  |\n",
            "|       avgW2V       |    0.599747    |   0.903329  |  0.906167  |\n",
            "| Tf-Idf weighed W2v |    0.828218    |   0.941996  |  0.943134  |\n",
            "+--------------------+----------------+-------------+------------+\n"
          ],
          "name": "stdout"
        }
      ]
    },
    {
      "metadata": {
        "id": "8MlQUn_NvWgo",
        "colab_type": "code",
        "colab": {}
      },
      "cell_type": "code",
      "source": [
        ""
      ],
      "execution_count": 0,
      "outputs": []
    }
  ]
}