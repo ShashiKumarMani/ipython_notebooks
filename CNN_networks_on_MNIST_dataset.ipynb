{
 "cells": [
  {
   "cell_type": "markdown",
   "metadata": {
    "colab_type": "text",
    "id": "Uq3x6hU5Gnrd"
   },
   "source": [
    "# Assignment 13 : Try various CNN networks on MNIST dataset\n",
    "\n",
    "**Objective:** Train three different CNN networks with different number of layers on the MNIST dataset."
   ]
  },
  {
   "cell_type": "code",
   "execution_count": 0,
   "metadata": {
    "colab": {},
    "colab_type": "code",
    "id": "AhscIdASzjvY"
   },
   "outputs": [],
   "source": [
    "#import the libraries\n",
    "\n",
    "from keras.models import Sequential\n",
    "from keras.layers import Conv2D,MaxPooling2D,Dropout,BatchNormalization,Flatten,Dense\n",
    "from keras import backend\n",
    "from keras import utils"
   ]
  },
  {
   "cell_type": "code",
   "execution_count": 0,
   "metadata": {
    "colab": {},
    "colab_type": "code",
    "id": "f-eHRAFl0Nwf"
   },
   "outputs": [],
   "source": [
    "#import the datasets\n",
    "\n",
    "from keras.datasets import mnist\n",
    "(X_train,Y_train),(X_test,Y_test) = mnist.load_data()"
   ]
  },
  {
   "cell_type": "code",
   "execution_count": 0,
   "metadata": {
    "colab": {},
    "colab_type": "code",
    "id": "Mh2Lmn_U05T_"
   },
   "outputs": [],
   "source": [
    "#reshape the dataset\n",
    "\n",
    "img_rows = img_cols = 28\n",
    "\n",
    "if backend.image_data_format() == 'channels_first':\n",
    "    x_train = X_train.reshape(X_train.shape[0], 1, img_rows, img_cols)\n",
    "    x_test = X_test.reshape(X_test.shape[0], 1, img_rows, img_cols)\n",
    "    input_shape = (1, img_rows, img_cols)\n",
    "else:\n",
    "    x_train = X_train.reshape(X_train.shape[0], img_rows, img_cols, 1)\n",
    "    x_test = X_test.reshape(X_test.shape[0], img_rows, img_cols, 1)\n",
    "    input_shape = (img_rows, img_cols, 1)"
   ]
  },
  {
   "cell_type": "code",
   "execution_count": 43,
   "metadata": {
    "colab": {
     "base_uri": "https://localhost:8080/",
     "height": 69
    },
    "colab_type": "code",
    "id": "HL_OELVr1Qpf",
    "outputId": "2deffa24-2faa-441a-aba8-55f8effb9c69"
   },
   "outputs": [
    {
     "name": "stdout",
     "output_type": "stream",
     "text": [
      "train data shape (60000, 28, 28, 1)\n",
      "Num samples in train set 60000\n",
      "Num samples in test set 10000\n"
     ]
    }
   ],
   "source": [
    "#normalize the data\n",
    "x_train = x_train.astype('float32')\n",
    "x_test = x_test.astype('float32')\n",
    "x_train /=255\n",
    "x_test /= 255\n",
    "print('train data shape',x_train.shape)\n",
    "print('Num samples in train set',x_train.shape[0])\n",
    "print('Num samples in test set',x_test.shape[0])"
   ]
  },
  {
   "cell_type": "code",
   "execution_count": 0,
   "metadata": {
    "colab": {},
    "colab_type": "code",
    "id": "jW_iNPSZ13eq"
   },
   "outputs": [],
   "source": [
    "#convert the labels to binary vectors of length len-unique labels\n",
    "\n",
    "y_train = utils.to_categorical(Y_train,10)\n",
    "y_test = utils.to_categorical(Y_test,10)\n"
   ]
  },
  {
   "cell_type": "markdown",
   "metadata": {
    "colab_type": "text",
    "id": "IaFACcIaG33_"
   },
   "source": [
    "# Model_1"
   ]
  },
  {
   "cell_type": "code",
   "execution_count": 17,
   "metadata": {
    "colab": {
     "base_uri": "https://localhost:8080/",
     "height": 382
    },
    "colab_type": "code",
    "id": "xOg2rYNgz2Ne",
    "outputId": "a85afdfd-2c6a-4766-ac16-c1c92bd30777"
   },
   "outputs": [
    {
     "name": "stdout",
     "output_type": "stream",
     "text": [
      "Train on 42000 samples, validate on 18000 samples\n",
      "Epoch 1/10\n",
      "42000/42000 [==============================] - 91s 2ms/step - loss: 0.9301 - acc: 0.7132 - val_loss: 0.2023 - val_acc: 0.9331\n",
      "Epoch 2/10\n",
      "42000/42000 [==============================] - 90s 2ms/step - loss: 0.2758 - acc: 0.9191 - val_loss: 0.1240 - val_acc: 0.9606\n",
      "Epoch 3/10\n",
      "42000/42000 [==============================] - 89s 2ms/step - loss: 0.1895 - acc: 0.9445 - val_loss: 0.1005 - val_acc: 0.9682\n",
      "Epoch 4/10\n",
      "42000/42000 [==============================] - 89s 2ms/step - loss: 0.1458 - acc: 0.9583 - val_loss: 0.0872 - val_acc: 0.9722\n",
      "Epoch 5/10\n",
      "42000/42000 [==============================] - 89s 2ms/step - loss: 0.1213 - acc: 0.9644 - val_loss: 0.0790 - val_acc: 0.9746\n",
      "Epoch 6/10\n",
      "42000/42000 [==============================] - 90s 2ms/step - loss: 0.1073 - acc: 0.9684 - val_loss: 0.0742 - val_acc: 0.9769\n",
      "Epoch 7/10\n",
      "42000/42000 [==============================] - 86s 2ms/step - loss: 0.0995 - acc: 0.9718 - val_loss: 0.0671 - val_acc: 0.9794\n",
      "Epoch 8/10\n",
      "42000/42000 [==============================] - 90s 2ms/step - loss: 0.0841 - acc: 0.9757 - val_loss: 0.0562 - val_acc: 0.9832\n",
      "Epoch 9/10\n",
      "42000/42000 [==============================] - 90s 2ms/step - loss: 0.0730 - acc: 0.9793 - val_loss: 0.0502 - val_acc: 0.9854\n",
      "Epoch 10/10\n",
      "42000/42000 [==============================] - 90s 2ms/step - loss: 0.0722 - acc: 0.9782 - val_loss: 0.0498 - val_acc: 0.9850\n"
     ]
    }
   ],
   "source": [
    "#model1\n",
    "num_classes = 10\n",
    "batch_size = 512\n",
    "epochs = 10\n",
    "\n",
    "model_1 = Sequential()\n",
    "\n",
    "model_1.add(Conv2D(6,kernel_size=(5,5),activation='relu',padding='same',input_shape=input_shape))\n",
    "model_1.add(BatchNormalization())\n",
    "\n",
    "model_1.add(Conv2D(16,kernel_size=(3,3),activation='relu'))\n",
    "model_1.add(MaxPooling2D(pool_size=(2,2)))\n",
    "model_1.add(BatchNormalization())\n",
    "\n",
    "model_1.add(Conv2D(16,kernel_size=(3,3),activation='relu'))\n",
    "model_1.add(MaxPooling2D(pool_size=(2,2)))\n",
    "model_1.add(BatchNormalization())\n",
    "\n",
    "model_1.add(Flatten())\n",
    "model_1.add(Dense(128,activation='relu',kernel_initializer='he_normal'))\n",
    "model_1.add(BatchNormalization())\n",
    "model_1.add(Dropout(0.5))\n",
    "\n",
    "model_1.add(Dense(90,activation='relu',kernel_initializer='he_normal'))\n",
    "model_1.add(BatchNormalization())\n",
    "model_1.add(Dropout(0.5))\n",
    "\n",
    "model_1.add(Dense(10,activation='softmax'))\n",
    "\n",
    "\n",
    "model_1.compile(loss='categorical_crossentropy',metrics=['accuracy'],optimizer='adam')\n",
    "hist1 = model_1.fit(x_train,y_train,validation_split=0.3,verbose=1,batch_size=batch_size,epochs=epochs)"
   ]
  },
  {
   "cell_type": "code",
   "execution_count": 19,
   "metadata": {
    "colab": {
     "base_uri": "https://localhost:8080/",
     "height": 361
    },
    "colab_type": "code",
    "id": "rq_WHNE4h_il",
    "outputId": "d7825b35-d346-4d76-cfcb-c1a162b041fb"
   },
   "outputs": [
    {
     "data": {
      "image/png": "[encoded data removed]",
      "text/plain": [
       "<matplotlib.figure.Figure at 0x7f283d7b2e10>"
      ]
     },
     "metadata": {
      "tags": []
     },
     "output_type": "display_data"
    }
   ],
   "source": [
    "# Train and validation loss plot\n",
    "import matplotlib.pyplot as plt\n",
    "\n",
    "loss = hist1.history['loss']\n",
    "val_loss = hist1.history['val_loss']\n",
    "\n",
    "plt.plot(epochs,loss,label='train-loss')\n",
    "plt.plot(epochs,val_loss,label='vaidation-loss')\n",
    "plt.xlabel('Epochs')\n",
    "plt.ylabel('Train - Validation loss')\n",
    "plt.legend()\n",
    "plt.grid()\n",
    "plt.show()"
   ]
  },
  {
   "cell_type": "code",
   "execution_count": 20,
   "metadata": {
    "colab": {
     "base_uri": "https://localhost:8080/",
     "height": 69
    },
    "colab_type": "code",
    "id": "thTXURquj58V",
    "outputId": "64a896c1-69fc-4e2a-98aa-660c0b9e4cbc"
   },
   "outputs": [
    {
     "name": "stdout",
     "output_type": "stream",
     "text": [
      "10000/10000 [==============================] - 8s 812us/step\n",
      "Test - loss 0.039912072516081386\n",
      "Test - accuracy 0.9874\n"
     ]
    }
   ],
   "source": [
    "#test loss and accuracy\n",
    "\n",
    "score = model_1.evaluate(x_test,y_test)\n",
    "print('Test - loss',score[0])\n",
    "print('Test - accuracy',score[1])"
   ]
  },
  {
   "cell_type": "code",
   "execution_count": 40,
   "metadata": {
    "colab": {
     "base_uri": "https://localhost:8080/",
     "height": 901
    },
    "colab_type": "code",
    "id": "QEh-ER1Lp7fp",
    "outputId": "5a3230e0-4a12-48a9-a5b6-04edb905e40a"
   },
   "outputs": [
    {
     "name": "stdout",
     "output_type": "stream",
     "text": [
      "Predicted label [4]\n",
      "Actual value\n"
     ]
    },
    {
     "data": {
      "image/png": "[encoded data removed]",
      "text/plain": [
       "<matplotlib.figure.Figure at 0x7f283858cf98>"
      ]
     },
     "metadata": {
      "tags": []
     },
     "output_type": "display_data"
    },
    {
     "name": "stdout",
     "output_type": "stream",
     "text": [
      "Predicted label [5]\n",
      "Actual value\n"
     ]
    },
    {
     "data": {
      "image/png": "[encoded data removed]",
      "text/plain": [
       "<matplotlib.figure.Figure at 0x7f28362e9f60>"
      ]
     },
     "metadata": {
      "tags": []
     },
     "output_type": "display_data"
    },
    {
     "name": "stdout",
     "output_type": "stream",
     "text": [
      "Predicted label [3]\n",
      "Actual value\n"
     ]
    },
    {
     "data": {
      "image/png": "[encoded data removed]",
      "text/plain": [
       "<matplotlib.figure.Figure at 0x7f283630f358>"
      ]
     },
     "metadata": {
      "tags": []
     },
     "output_type": "display_data"
    },
    {
     "name": "stdout",
     "output_type": "stream",
     "text": [
      "Predicted label [0]\n",
      "Actual value\n"
     ]
    },
    {
     "data": {
      "image/png": "[encoded data removed]",
      "text/plain": [
       "<matplotlib.figure.Figure at 0x7f283628fb00>"
      ]
     },
     "metadata": {
      "tags": []
     },
     "output_type": "display_data"
    },
    {
     "name": "stdout",
     "output_type": "stream",
     "text": [
      "Predicted label [0]\n",
      "Actual value\n"
     ]
    },
    {
     "data": {
      "image/png": "[encoded data removed]",
      "text/plain": [
       "<matplotlib.figure.Figure at 0x7f28361d8438>"
      ]
     },
     "metadata": {
      "tags": []
     },
     "output_type": "display_data"
    }
   ],
   "source": [
    "#prediction on random images\n",
    "import numpy as np\n",
    "\n",
    "random = np.random.randint(0,x_test.shape[0],5)\n",
    "\n",
    "for i in random:\n",
    "  pred = model_1.predict(x_test[i].reshape(1,28,28,1))\n",
    "  print('Predicted label',np.where(pred[0] == np.amax(pred[0]))[0])\n",
    "  print('Actual value')\n",
    "  plt.figure(i,figsize=(2,2))\n",
    "  plt.imshow(x_test[i].reshape(28,28))\n",
    "  plt.show()"
   ]
  },
  {
   "cell_type": "markdown",
   "metadata": {
    "colab_type": "text",
    "id": "82ULUMFrG9GO"
   },
   "source": [
    "# Model_2:"
   ]
  },
  {
   "cell_type": "code",
   "execution_count": 25,
   "metadata": {
    "colab": {
     "base_uri": "https://localhost:8080/",
     "height": 382
    },
    "colab_type": "code",
    "id": "HHjhaGYXG_Gm",
    "outputId": "3445d814-2180-4a58-b52e-c53550e5c871"
   },
   "outputs": [
    {
     "name": "stdout",
     "output_type": "stream",
     "text": [
      "Train on 42000 samples, validate on 18000 samples\n",
      "Epoch 1/10\n",
      "42000/42000 [==============================] - 151s 4ms/step - loss: 0.6735 - acc: 0.7977 - val_loss: 0.1143 - val_acc: 0.9638\n",
      "Epoch 2/10\n",
      "42000/42000 [==============================] - 146s 3ms/step - loss: 0.1717 - acc: 0.9547 - val_loss: 0.0719 - val_acc: 0.9771\n",
      "Epoch 3/10\n",
      "42000/42000 [==============================] - 142s 3ms/step - loss: 0.1160 - acc: 0.9689 - val_loss: 0.0579 - val_acc: 0.9822\n",
      "Epoch 4/10\n",
      "42000/42000 [==============================] - 146s 3ms/step - loss: 0.0764 - acc: 0.9795 - val_loss: 0.0471 - val_acc: 0.9857\n",
      "Epoch 5/10\n",
      "42000/42000 [==============================] - 147s 3ms/step - loss: 0.0650 - acc: 0.9823 - val_loss: 0.0455 - val_acc: 0.9852\n",
      "Epoch 6/10\n",
      "42000/42000 [==============================] - 145s 3ms/step - loss: 0.0516 - acc: 0.9858 - val_loss: 0.0430 - val_acc: 0.9869\n",
      "Epoch 7/10\n",
      "42000/42000 [==============================] - 147s 4ms/step - loss: 0.0439 - acc: 0.9881 - val_loss: 0.0408 - val_acc: 0.9875\n",
      "Epoch 8/10\n",
      "42000/42000 [==============================] - 146s 3ms/step - loss: 0.0558 - acc: 0.9835 - val_loss: 0.0404 - val_acc: 0.9878\n",
      "Epoch 9/10\n",
      "42000/42000 [==============================] - 146s 3ms/step - loss: 0.0340 - acc: 0.9906 - val_loss: 0.0388 - val_acc: 0.9887\n",
      "Epoch 10/10\n",
      "42000/42000 [==============================] - 145s 3ms/step - loss: 0.0397 - acc: 0.9886 - val_loss: 0.0427 - val_acc: 0.9879\n"
     ]
    }
   ],
   "source": [
    "#model2\n",
    "batch_size = 512\n",
    "n_epochs = 10\n",
    "\n",
    "model_2 = Sequential()\n",
    "\n",
    "model_2.add(Conv2D(6,kernel_size=(5,5),activation='relu',padding='same'))\n",
    "model_2.add(BatchNormalization())\n",
    "\n",
    "model_2.add(Conv2D(10,kernel_size=(3,3),activation='relu'))\n",
    "model_2.add(BatchNormalization())\n",
    "\n",
    "model_2.add(Conv2D(16,kernel_size=(3,3),activation='relu'))\n",
    "model_2.add(MaxPooling2D(pool_size=(2,2)))\n",
    "model_2.add(BatchNormalization())\n",
    "\n",
    "model_2.add(Conv2D(64,kernel_size=(2,2),activation='relu'))\n",
    "model_2.add(MaxPooling2D(pool_size=(2,2)))\n",
    "model_2.add(BatchNormalization())\n",
    "\n",
    "model_2.add(Conv2D(128,kernel_size=(2,2),activation='relu'))\n",
    "model_2.add(MaxPooling2D(pool_size=(2,2)))\n",
    "model_2.add(BatchNormalization())\n",
    "\n",
    "model_2.add(Flatten())\n",
    "\n",
    "model_2.add(Dense(128,activation='relu',kernel_initializer='he_normal'))\n",
    "model_2.add(BatchNormalization())\n",
    "model_2.add(Dropout(0.4))\n",
    "\n",
    "model_2.add(Dense(64,activation='relu',kernel_initializer='he_normal'))\n",
    "model_2.add(BatchNormalization())\n",
    "model_2.add(Dropout(0.4))\n",
    "\n",
    "model_2.add(Dense(10,activation='softmax'))\n",
    "\n",
    "\n",
    "model_2.compile(loss='categorical_crossentropy',metrics=['accuracy'],optimizer='adam')\n",
    "hist = model_2.fit(x_train,y_train,validation_split=0.3,verbose=1,batch_size=batch_size,epochs=n_epochs)"
   ]
  },
  {
   "cell_type": "code",
   "execution_count": 29,
   "metadata": {
    "colab": {
     "base_uri": "https://localhost:8080/",
     "height": 363
    },
    "colab_type": "code",
    "id": "jV8gvST63Crt",
    "outputId": "6d4073e4-3c80-483d-ad2b-12c230115d4f"
   },
   "outputs": [
    {
     "data": {
      "image/png": "[encoded data removed]",
      "text/plain": [
       "<matplotlib.figure.Figure at 0x7f2839f3d1d0>"
      ]
     },
     "metadata": {
      "tags": []
     },
     "output_type": "display_data"
    }
   ],
   "source": [
    "# Train and validation loss plot\n",
    "\n",
    "loss = hist.history['loss']\n",
    "val_loss = hist.history['val_loss']\n",
    "\n",
    "epochs = list(range(n_epochs))\n",
    "\n",
    "plt.plot(epochs,loss,label='train-loss')\n",
    "plt.plot(epochs,val_loss,label='vaidation-loss')\n",
    "plt.xlabel('Epochs')\n",
    "plt.ylabel('Train - Validation loss')\n",
    "plt.legend()\n",
    "plt.grid()\n",
    "plt.show()"
   ]
  },
  {
   "cell_type": "code",
   "execution_count": 30,
   "metadata": {
    "colab": {
     "base_uri": "https://localhost:8080/",
     "height": 69
    },
    "colab_type": "code",
    "id": "VXIe5-0w17b4",
    "outputId": "63116297-a5ff-4338-aaad-8a5c92e1d5e6"
   },
   "outputs": [
    {
     "name": "stdout",
     "output_type": "stream",
     "text": [
      "10000/10000 [==============================] - 13s 1ms/step\n",
      "0.03525445842194895\n",
      "0.9887\n"
     ]
    }
   ],
   "source": [
    "score = model_2.evaluate(x_test,y_test)\n",
    "print(score[0])\n",
    "print(score[1])"
   ]
  },
  {
   "cell_type": "code",
   "execution_count": 38,
   "metadata": {
    "colab": {
     "base_uri": "https://localhost:8080/",
     "height": 901
    },
    "colab_type": "code",
    "id": "WFfKhpEFoK7_",
    "outputId": "5d57d527-bae3-4e38-a03f-9ff832c7ae4e"
   },
   "outputs": [
    {
     "name": "stdout",
     "output_type": "stream",
     "text": [
      "Predicted label [4]\n",
      "Actual value\n"
     ]
    },
    {
     "data": {
      "image/png": "[encoded data removed]",
      "text/plain": [
       "<matplotlib.figure.Figure at 0x7f28366324a8>"
      ]
     },
     "metadata": {
      "tags": []
     },
     "output_type": "display_data"
    },
    {
     "name": "stdout",
     "output_type": "stream",
     "text": [
      "Predicted label [2]\n",
      "Actual value\n"
     ]
    },
    {
     "data": {
      "image/png": "[encoded data removed]",
      "text/plain": [
       "<matplotlib.figure.Figure at 0x7f28365e3668>"
      ]
     },
     "metadata": {
      "tags": []
     },
     "output_type": "display_data"
    },
    {
     "name": "stdout",
     "output_type": "stream",
     "text": [
      "Predicted label [6]\n",
      "Actual value\n"
     ]
    },
    {
     "data": {
      "image/png": "[encoded data removed]",
      "text/plain": [
       "<matplotlib.figure.Figure at 0x7f28365a4358>"
      ]
     },
     "metadata": {
      "tags": []
     },
     "output_type": "display_data"
    },
    {
     "name": "stdout",
     "output_type": "stream",
     "text": [
      "Predicted label [7]\n",
      "Actual value\n"
     ]
    },
    {
     "data": {
      "image/png": "[encoded data removed]",
      "text/plain": [
       "<matplotlib.figure.Figure at 0x7f2836581400>"
      ]
     },
     "metadata": {
      "tags": []
     },
     "output_type": "display_data"
    },
    {
     "name": "stdout",
     "output_type": "stream",
     "text": [
      "Predicted label [7]\n",
      "Actual value\n"
     ]
    },
    {
     "data": {
      "image/png": "[encoded data removed]",
      "text/plain": [
       "<matplotlib.figure.Figure at 0x7f2836535940>"
      ]
     },
     "metadata": {
      "tags": []
     },
     "output_type": "display_data"
    }
   ],
   "source": [
    "#prediction on random images\n",
    "import numpy as np\n",
    "\n",
    "random = np.random.randint(0,x_test.shape[0],5)\n",
    "\n",
    "for i in random:\n",
    "  pred = model_2.predict(x_test[i].reshape(1,28,28,1))\n",
    "  print('Predicted label',np.where(pred[0] == np.amax(pred[0]))[0])\n",
    "  print('Actual value')\n",
    "  plt.figure(i,figsize=(2,2))\n",
    "  plt.imshow(x_test[i].reshape(28,28))\n",
    "  plt.show()"
   ]
  },
  {
   "cell_type": "markdown",
   "metadata": {
    "colab_type": "text",
    "id": "J3GI_2KoHAWC"
   },
   "source": [
    "# Model_3:"
   ]
  },
  {
   "cell_type": "code",
   "execution_count": 34,
   "metadata": {
    "colab": {
     "base_uri": "https://localhost:8080/",
     "height": 382
    },
    "colab_type": "code",
    "id": "dRjWKwxrHCTZ",
    "outputId": "f65b0cea-f360-4e93-8f82-a2eff6822467"
   },
   "outputs": [
    {
     "name": "stdout",
     "output_type": "stream",
     "text": [
      "Train on 42000 samples, validate on 18000 samples\n",
      "Epoch 1/10\n",
      "42000/42000 [==============================] - 284s 7ms/step - loss: 0.6137 - acc: 0.8239 - val_loss: 0.0932 - val_acc: 0.9721\n",
      "Epoch 2/10\n",
      "42000/42000 [==============================] - 284s 7ms/step - loss: 0.1496 - acc: 0.9645 - val_loss: 0.0788 - val_acc: 0.9756\n",
      "Epoch 3/10\n",
      "42000/42000 [==============================] - 288s 7ms/step - loss: 0.0979 - acc: 0.9763 - val_loss: 0.0509 - val_acc: 0.9860\n",
      "Epoch 4/10\n",
      "42000/42000 [==============================] - 292s 7ms/step - loss: 0.0589 - acc: 0.9867 - val_loss: 0.0470 - val_acc: 0.9859\n",
      "Epoch 5/10\n",
      "42000/42000 [==============================] - 292s 7ms/step - loss: 0.0638 - acc: 0.9839 - val_loss: 0.0451 - val_acc: 0.9875\n",
      "Epoch 6/10\n",
      "42000/42000 [==============================] - 292s 7ms/step - loss: 0.0379 - acc: 0.9915 - val_loss: 0.0449 - val_acc: 0.9877\n",
      "Epoch 7/10\n",
      "42000/42000 [==============================] - 292s 7ms/step - loss: 0.0444 - acc: 0.9885 - val_loss: 0.0494 - val_acc: 0.9865\n",
      "Epoch 8/10\n",
      "42000/42000 [==============================] - 293s 7ms/step - loss: 0.0256 - acc: 0.9935 - val_loss: 0.0425 - val_acc: 0.9897\n",
      "Epoch 9/10\n",
      "42000/42000 [==============================] - 293s 7ms/step - loss: 0.0221 - acc: 0.9946 - val_loss: 0.0394 - val_acc: 0.9893\n",
      "Epoch 10/10\n",
      "42000/42000 [==============================] - 296s 7ms/step - loss: 0.0155 - acc: 0.9966 - val_loss: 0.0450 - val_acc: 0.9885\n"
     ]
    }
   ],
   "source": [
    "#model3\n",
    "n_epochs = 10\n",
    "batch_size = 512\n",
    "num_classes = 10\n",
    "\n",
    "model_3 = Sequential()\n",
    "\n",
    "model_3.add(Conv2D(10,kernel_size=(5,5),activation='relu',padding='same'))\n",
    "model_3.add(BatchNormalization())\n",
    "\n",
    "model_3.add(Conv2D(40,kernel_size=(5,5),activation='relu'))\n",
    "model_3.add(MaxPooling2D(pool_size=(2,2)))#12,12\n",
    "model_3.add(BatchNormalization())\n",
    "\n",
    "model_3.add(Conv2D(64,kernel_size=(3,3),activation='relu',padding='same'))\n",
    "model_3.add(BatchNormalization())\n",
    "\n",
    "model_3.add(Conv2D(80,kernel_size=(3,3),activation='relu'))\n",
    "model_3.add(MaxPooling2D(pool_size=(2,2)))\n",
    "model_3.add(BatchNormalization())\n",
    "\n",
    "model_3.add(Conv2D(94,kernel_size=(2,2),activation='relu'))\n",
    "model_3.add(BatchNormalization())\n",
    "\n",
    "model_3.add(Conv2D(100,kernel_size=(2,2),activation='relu',padding='same'))\n",
    "model_3.add(BatchNormalization())\n",
    "\n",
    "model_3.add(Conv2D(128,kernel_size=(2,2),activation='relu',padding='same'))\n",
    "model_3.add(BatchNormalization())\n",
    "\n",
    "model_3.add(Flatten())\n",
    "model_3.add(Dense(128,activation='relu',kernel_initializer='he_normal'))\n",
    "model_3.add(BatchNormalization())\n",
    "model_3.add(Dropout(0.5))\n",
    "\n",
    "model_3.add(Dense(64,activation='relu',kernel_initializer='he_normal'))\n",
    "model_3.add(BatchNormalization())\n",
    "model_3.add(Dropout(0.5))\n",
    "\n",
    "model_3.add(Dense(num_classes,activation='softmax'))\n",
    "\n",
    "model_3.compile(loss='categorical_crossentropy',metrics=['accuracy'],optimizer='adam')\n",
    "hist = model_3.fit(x_train,y_train,validation_split=0.3,verbose=1,batch_size=batch_size,epochs=n_epochs)"
   ]
  },
  {
   "cell_type": "code",
   "execution_count": 35,
   "metadata": {
    "colab": {
     "base_uri": "https://localhost:8080/",
     "height": 347
    },
    "colab_type": "code",
    "id": "ZF_chiYq7uoh",
    "outputId": "463cccd8-26ee-4c3f-ab83-acee09e3f816"
   },
   "outputs": [
    {
     "data": {
      "image/png": "[encoded data removed]",
      "text/plain": [
       "<matplotlib.figure.Figure at 0x7f2838505978>"
      ]
     },
     "metadata": {
      "tags": []
     },
     "output_type": "display_data"
    }
   ],
   "source": [
    "# Train and validation loss plot\n",
    "\n",
    "loss = hist.history['loss']\n",
    "val_loss = hist.history['val_loss']\n",
    "\n",
    "epochs = np.array(range(n_epochs))\n",
    "\n",
    "plt.plot(epochs,loss,label='train-loss')\n",
    "plt.plot(epochs,val_loss,label='vaidation-loss')\n",
    "plt.legend()\n",
    "plt.grid()\n",
    "plt.show()"
   ]
  },
  {
   "cell_type": "code",
   "execution_count": 36,
   "metadata": {
    "colab": {
     "base_uri": "https://localhost:8080/",
     "height": 69
    },
    "colab_type": "code",
    "id": "_I6Wh2qa8ZOQ",
    "outputId": "f7a7f73c-694f-4193-adc5-5ea8794a3819"
   },
   "outputs": [
    {
     "name": "stdout",
     "output_type": "stream",
     "text": [
      "10000/10000 [==============================] - 22s 2ms/step\n",
      "Loss  0.03419759409769904\n",
      "Test - Accuracy  0.9909\n"
     ]
    }
   ],
   "source": [
    "score = model_3.evaluate(x_test,y_test)\n",
    "print('Loss ',score[0])\n",
    "print('Test - Accuracy ',score[1])"
   ]
  },
  {
   "cell_type": "code",
   "execution_count": 39,
   "metadata": {
    "colab": {
     "base_uri": "https://localhost:8080/",
     "height": 901
    },
    "colab_type": "code",
    "id": "RJsuLK59Fqp8",
    "outputId": "4cb267ac-21f8-461d-aa4d-ef74104eba6f"
   },
   "outputs": [
    {
     "name": "stdout",
     "output_type": "stream",
     "text": [
      "Predicted label [3]\n",
      "Actual value\n"
     ]
    },
    {
     "data": {
      "image/png": "[encoded data removed]",
      "text/plain": [
       "<matplotlib.figure.Figure at 0x7f28385555f8>"
      ]
     },
     "metadata": {
      "tags": []
     },
     "output_type": "display_data"
    },
    {
     "name": "stdout",
     "output_type": "stream",
     "text": [
      "Predicted label [2]\n",
      "Actual value\n"
     ]
    },
    {
     "data": {
      "image/png": "[encoded data removed]",
      "text/plain": [
       "<matplotlib.figure.Figure at 0x7f283645bd68>"
      ]
     },
     "metadata": {
      "tags": []
     },
     "output_type": "display_data"
    },
    {
     "name": "stdout",
     "output_type": "stream",
     "text": [
      "Predicted label [8]\n",
      "Actual value\n"
     ]
    },
    {
     "data": {
      "image/png": "[encoded data removed]",
      "text/plain": [
       "<matplotlib.figure.Figure at 0x7f283642b240>"
      ]
     },
     "metadata": {
      "tags": []
     },
     "output_type": "display_data"
    },
    {
     "name": "stdout",
     "output_type": "stream",
     "text": [
      "Predicted label [9]\n",
      "Actual value\n"
     ]
    },
    {
     "data": {
      "image/png": "[encoded data removed]",
      "text/plain": [
       "<matplotlib.figure.Figure at 0x7f28363ed2b0>"
      ]
     },
     "metadata": {
      "tags": []
     },
     "output_type": "display_data"
    },
    {
     "name": "stdout",
     "output_type": "stream",
     "text": [
      "Predicted label [6]\n",
      "Actual value\n"
     ]
    },
    {
     "data": {
      "image/png": "[encoded data removed]",
      "text/plain": [
       "<matplotlib.figure.Figure at 0x7f28364f1cf8>"
      ]
     },
     "metadata": {
      "tags": []
     },
     "output_type": "display_data"
    }
   ],
   "source": [
    "#prediction on random images\n",
    "import numpy as np\n",
    "\n",
    "random = np.random.randint(0,x_test.shape[0],5)\n",
    "\n",
    "for i in random:\n",
    "  pred = model_3.predict(x_test[i].reshape(1,28,28,1))\n",
    "  print('Predicted label',np.where(pred[0] == np.amax(pred[0]))[0])\n",
    "  print('Actual value')\n",
    "  plt.figure(i,figsize=(2,2))\n",
    "  plt.imshow(x_test[i].reshape(28,28))\n",
    "  plt.show()"
   ]
  },
  {
   "cell_type": "markdown",
   "metadata": {
    "colab_type": "text",
    "id": "B_mQaRYeo623"
   },
   "source": [
    "# Conclusion :"
   ]
  },
  {
   "cell_type": "code",
   "execution_count": 42,
   "metadata": {
    "colab": {
     "base_uri": "https://localhost:8080/",
     "height": 139
    },
    "colab_type": "code",
    "id": "dEPcvMOYo8AA",
    "outputId": "48a8d390-a413-41f2-e996-0e272f4fd988"
   },
   "outputs": [
    {
     "name": "stdout",
     "output_type": "stream",
     "text": [
      "+-------+---------------+--------+-----------------+\n",
      "| Model | Hidden-layers |  Loss  | Test - Accuracy |\n",
      "+-------+---------------+--------+-----------------+\n",
      "|   1   |       3       | 0.0399 |      0.9874     |\n",
      "|   2   |       5       | 0.0352 |      0.9887     |\n",
      "|   3   |       7       | 0.0341 |      0.9909     |\n",
      "+-------+---------------+--------+-----------------+\n"
     ]
    }
   ],
   "source": [
    "from prettytable import PrettyTable\n",
    "\n",
    "x = PrettyTable()\n",
    "x.field_names = ['Model','Hidden-layers','Loss','Test - Accuracy']\n",
    "x.add_row(['1','3','0.0399','0.9874'])\n",
    "x.add_row(['2','5','0.0352','0.9887'])\n",
    "x.add_row(['3','7','0.0341','0.9909'])\n",
    "print(x)\n"
   ]
  },
  {
   "cell_type": "code",
   "execution_count": 0,
   "metadata": {
    "colab": {},
    "colab_type": "code",
    "id": "mN22SIyK6Dc_"
   },
   "outputs": [],
   "source": []
  }
 ],
 "metadata": {
  "accelerator": "TPU",
  "colab": {
   "collapsed_sections": [],
   "name": "13_Try various CNN networks on MNIST dataset.ipynb",
   "provenance": [],
   "version": "0.3.2"
  },
  "kernelspec": {
   "display_name": "Python 3",
   "language": "python",
   "name": "python3"
  },
  "language_info": {
   "codemirror_mode": {
    "name": "ipython",
    "version": 3
   },
   "file_extension": ".py",
   "mimetype": "text/x-python",
   "name": "python",
   "nbconvert_exporter": "python",
   "pygments_lexer": "ipython3",
   "version": "3.6.5"
  }
 },
 "nbformat": 4,
 "nbformat_minor": 1
}
